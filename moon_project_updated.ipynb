{
 "cells": [
  {
   "cell_type": "markdown",
   "metadata": {},
   "source": [
    "<div style=\"text-align: right\">© Moon</div>"
   ]
  },
  {
   "cell_type": "markdown",
   "metadata": {},
   "source": [
    "# Project Report: Evaluation of the Centrality Algorithm, PageRank (Second Edition)\n",
    "***"
   ]
  },
  {
   "cell_type": "markdown",
   "metadata": {},
   "source": [
    "## Introduction"
   ]
  },
  {
   "cell_type": "markdown",
   "metadata": {},
   "source": [
    "[1]The trillion dollar algorithm called, $PageRank(PR)$, is used in Google Search to rank web pages that Google's founders Sergey Brin and Larry Page developed in 1998. The PageRank algorithm measures the importance of a webpage by analyzing the quantity and quality of the links that point to it. The PR is an important member of centrality algorithms, graph algorithms. They identify the important nodes in a given graph and those nodes are defined as vertices with many direct or indirect connections. $PageRank(PR)$ finds most important vertices of a graph by analyzing the direct influence of nodes based on proportional rank.\n",
    " \n",
    "In this notebook, we will demonstrated about the concepts of PageRank algorithm and its theoretical and empirical complexity.\n",
    "\n",
    "This notebook demonstrates:\n",
    "- The Concept of PageRank algorithm\n",
    "- Implementation the PageRank algorithm and explore it on various graphs generated from Networks, python library.\n",
    "- Measuring the PR complexity theoretically\n",
    "- Measuring the PR complexity empirically\n",
    "- PR algorithm and adjusting limitations"
   ]
  },
  {
   "cell_type": "markdown",
   "metadata": {},
   "source": [
    "***"
   ]
  },
  {
   "cell_type": "markdown",
   "metadata": {},
   "source": [
    "## The PageRank Algorithm\n",
    "\n",
    "[2]The PageRank algorithm gives each page a rating of its importance, which is a recursively defined measure where by a page becomes important if important pages link to it. The page rank of any page is the probability that the random surfer will land on a particular page that the surfer is more likely to end up in important pages.\n",
    "\n",
    "The page rank of any page is the probability that the random surfer will land on a particular page that the surfer is more likely to end up in important pages. The behavior of the random surfer is an example of a Markov process, which depends only of the current state of a system. The algorithm moves moves from state to state, based on probability distribution of the likelihood of moving from each state to every other possible state. "
   ]
  },
  {
   "cell_type": "markdown",
   "metadata": {},
   "source": [
    "### PageRank Mathematical Formula\n",
    "\n",
    "The PageRank relies on an arbitrary probability distribution in which a person randomly clicks on links will arrive at any particular page. The probability which a person independently will continue is a damping factor $d$. PR computations require iterations through a number of pages to adjust approximate PR values to the theoretical value. The pageRank equation iteratively updates a candidate solution (rank) and arrive (converges) at an approximate solution to the same equation.\n",
    "\n",
    "> <br>\n",
    ">\n",
    "> let $G = (V, E)$ be a directed graph with the set of vertices $V$ and set of edges $E$, where $E$ is subset of $V$ x $V$.\n",
    ">  <br>\n",
    "> Then The iteration equation of the page rank value of  $(V_i)$  is given by:\n",
    ">\n",
    ">$PR(V_i)$ = $(1 - d)$ + $d$ * $\\sum_{n=In(Vi)}^{} PR(Vn) \\over |Out(Vn)|$ <br>\n",
    "<br>\n",
    "> = $(1 - d)$ + $PR(V_1) \\over Out(V_1)$ + ... + $PR(V_n) \\over Out(V_n)$ \n",
    ">\n",
    "> <br>"
   ]
  },
  {
   "cell_type": "markdown",
   "metadata": {},
   "source": [
    ">   <br>\n",
    "> where,\n",
    ">\n",
    ">- $In(V_i)$ be predecessors, set of vertices point to it; node (page) $(V_i)$ has nodes $(V_i)$ to $(V_n)$ point to it\n",
    ">- $Out(V_i)$ be successors, the set of vertices that vertex $(V_i)$ points to; defined as the number of links going out of page $V$\n",
    ">- $d$ is a damping factor which can be set between 0 (inclusive) and 1 (exclusive)\n",
    ">- $\\frac{d}{n}$ denotes random walk score\n",
    ">   <br>\n",
    ">   <br>"
   ]
  },
  {
   "cell_type": "markdown",
   "metadata": {},
   "source": [
    "[1]The result of $PR(V_i)$ 0.4 for instance, means there is 40% chance that a person randomly surf will be directed to the node. The implementation of the classic PageRank algorithm uses an iterative method. At each iteration step, the PageRank value of all nodes in the graph are computed."
   ]
  },
  {
   "cell_type": "markdown",
   "metadata": {},
   "source": [
    "## UPDATED: PageRank Challenges\n",
    "***"
   ]
  },
  {
   "cell_type": "markdown",
   "metadata": {},
   "source": [
    "\n",
    "### Limitations of the Early PageRank \n",
    "\n",
    "In the early PageRank, there limitations:\n",
    "- [5]Rank Sinks: A rank sink occurs when a page does not link out. Rank sinks occurs when by refusing to share. \n",
    "\n",
    "- [5]Hoarding: a group of pages that only link between each other will also monopolize PageRank, creating error. \n",
    "\n",
    "- [5]Circular references: A couple of pages that only link between themselves and do not link to any other page. The iterative process will never converge, creating infinity loop."
   ]
  },
  {
   "cell_type": "markdown",
   "metadata": {},
   "source": [
    "### Adjustment for PR limitations\n",
    "\n",
    "#### First adjustment: Stochasticity Adjustment\n",
    "[5]The PageRank equation computation requires summations which takes more computation time. To save the time, we can uses matrices to convert summations n to simpler vector-matrix multiplication, which saves computation time. Matrices also take advantage of matrix algebra and Markov Chains theory. The value (0 or 1) indicates whether or not there is a link between the pages. Instead of using 1 to indicate a link, we use 1/x, where x is the number of non-zero elements in each row. This strategy turns the non-zero values into probabilities, and creates a row substochastic matrix. When we add the values of each row, some of the totals will equal 1 and the rest will equal zero. The zero totals happen because of the dangling nodes or rank sinks. For a row stochastic matrix all the rows must add up to 1. Leaving the matrix unmodified does not guarantee that the values will converge during iterations. The first adjustment replaces all zero rows (dangling nodes/rank sinks) with 1/n eT (eT is a row vector of all 1s), making the matrix stochastic.\n",
    "\n",
    "#### Second adjustment: Primitivity Adjustment\n",
    "[14]Applying the Power Method to a Markov matrix converges to a unique solution if the matrix is stochastic, irreducible, and irregular. The primitive adjustment can be thought of as a random surfer. A proportion of the time the user will be following links at random and a proportion of the time the user visits new URL in stead of going to following links. In order to model this mathematically, d (damping factor), it means that 85% of the time the surfer is following links at random, and 15% of the time he is entering new URLs in the browser bar. A new matrix is used for this adjustment and random surfer is uniform.\n"
   ]
  },
  {
   "cell_type": "markdown",
   "metadata": {},
   "source": [
    "For each node take the difference in PR score between the current iteration and the last iteration, if this error falls below a certain point the graph has converged. Starting from arbitrary values assigned to each node in the graph, the computation iterates until convergence below a given threshold is achieved.\n",
    "\n",
    "[6]Convergence is achieved when the error rate for any vertex in the graph falls below a given threshold value. The error rate of a vertex computed by difference between the “real” score of the vertex PR(Vi) and the score computed at iteration I, PR^I(Vi) . The error rate is approximated at PR^(I+1)(Vi)+ PR^(I)(Vi). The computation of PR has no issue, if disregard scales. As damping factor increases, the rate of convergence also increases.\n"
   ]
  },
  {
   "cell_type": "markdown",
   "metadata": {},
   "source": [
    "***"
   ]
  },
  {
   "cell_type": "markdown",
   "metadata": {},
   "source": [
    "## Implementation of The PageRank Algorithm\n",
    "\n",
    "### Assumption & Consideration\n",
    "- we will set damping factor to 0.85 and iterations to 100.\n",
    "- The PageRank algorithm was designed for directed graphs and our algorithm will automatically check and convert them into undirected graphs.\n",
    "- personalization vector: importance of node including dangling node (node without any edges) or edge is uniform distribution\n",
    "- Each weight of node is set to 1\n",
    "- We will use $eigenvector calculation$. The eigenvector calculation is done by the power iteration method and has no guarantee of convergence. The iteration will stop after an error tolerance of len(G) * tol has been reached. If the number of iterations exceed iterations(I), it will print error message."
   ]
  },
  {
   "cell_type": "markdown",
   "metadata": {},
   "source": [
    "### PageRank Algorithm Steps\n",
    "\n",
    "1. Convert graphs into directed graphs\n",
    "2. Initialize the PageRank of every page (node) with an inital rank of 1/n\n",
    "3. Update the rank of each page by adding up the weight of every page that links to it divided by the number of links emanating from the referring page.\n",
    "4. If a page has no outward links (dangling nodes), redistribute its rank equally among the other pages in the graph\n",
    "5. Iterate through the graph. For each iteration, update the PageRank of every node in the graph. Add a damping factor at each stage to model the fact that users stop searching. \n",
    "   1. For the first page, it only processes through random walk. \n",
    "   2. For other pages, they can process through random walk or inter-page links. \n",
    "   3. Sum up the proportional rank from all of its in-neighbors\n",
    "   4. Update the PageRank with the weighted sum of proportional rank and random walk\n",
    "6. Normalize the PageRank when there is terminal point. PageRank value will converge after enough iterations\n",
    "7. Return PR scores"
   ]
  },
  {
   "cell_type": "markdown",
   "metadata": {},
   "source": [
    "## Parameters\n",
    "\n",
    "| **Input Argument** | **Type** | **Comment**                                       | \n",
    "|--------------------|----------|---------------------------------------------------|\n",
    "| G                  | graph    | input graph; Undirected graphs will be converted to a directed graph with two directed edges for each undirected edge. |\n",
    "| n                  | int      | total number of nodes of given graph (G)          |     \n",
    "| d                  | float, optional    | damping factor; the probability of random walk; default=0.85.                                   |\n",
    "| I                  | int, optional    | the number of iteration; Maximum number of iterations in power method; default=100 eigenvalue solver.                       |\n",
    "| tol | float | Error tolerance used to check convergence in power method solver.\n",
    "\n"
   ]
  },
  {
   "cell_type": "code",
   "execution_count": 13,
   "metadata": {},
   "outputs": [],
   "source": [
    "# Import Packages\n",
    "\n",
    "import numpy as np\n",
    "import pandas as pd\n",
    "import matplotlib.pyplot as plt\n",
    "import itertools\n",
    "import random\n",
    "from warnings import warn\n",
    "import networkx as nx\n",
    "from time import perf_counter\n",
    "from random import randint\n",
    "%matplotlib inline"
   ]
  },
  {
   "cell_type": "code",
   "execution_count": 14,
   "metadata": {},
   "outputs": [],
   "source": [
    "def pageRank(G, d=0.85, I=100, tol=1.0e-6, weight=\"weight\"):\n",
    "    \n",
    "    if len(G) == 0:                                         # O(1) - edge case; check if graph is None\n",
    "            return {}\n",
    "\n",
    "    D = G.to_directed()                                     # O(n + m) - traverse all nodes; graph conversions; n => num of nodes; m => num of edges\n",
    "\n",
    "    # Create a copy in (right) stochastic form\n",
    "    W = nx.stochastic_graph(D, weight)                      # O(n^2) - build a matrix size of n^2; assign value\n",
    "    # get total number nodes of graph\n",
    "    N = W.number_of_nodes()                                 # O(1) - call stochastic_graph function which compute the number of nodes       \n",
    "    \n",
    "    # Initialize the PageRank of every node with a value of 1/n \n",
    "    PR = dict.fromkeys(W, 1.0 / N)                          # O(n) - build dictionary size of n; assign weight\n",
    "    \n",
    "    # Assign uniform personalization vector\n",
    "    p = dict.fromkeys(W, 1.0 / N)                           # O(n) - build dictionary size of n; assign weight\n",
    "    \n",
    "    # Set dangling_weights to persolization vector\n",
    "    dangling_weights = p                                     # O(1) - assign variable\n",
    "    dangling_nodes = [n for n in W if W.out_degree(n, weight=weight) == 0.0]    # O(n) building array\n",
    "    \n",
    "    # power iteration: make up to I iterations                          # Total O(I * n^2)   \n",
    "    for _ in range(I):                                                  # O(I) - iteration step \n",
    "        PRlast = PR                                                     # O(1) - assign variable\n",
    "        PR = dict.fromkeys(PRlast.keys(), 0)                            # O(1) - update variable\n",
    "        danglesum = d * sum(PRlast[n] for n in dangling_nodes)          # O(1) - assign value & computation\n",
    "        \n",
    "        for n in PR:                                                    # O(n)\n",
    "            for _, nbr, wt in W.edges(n, data=weight):                  # * O(n) - matrix computation\n",
    "                PR[nbr] += d * PRlast[n] * wt                           # O(1) - computation & update variable\n",
    "            PR[n] += danglesum * dangling_weights.get(n, 0) + (1.0 - d) * p.get(n, 0)       # O(1) - assign value & computation\n",
    "            \n",
    "        # check convergence\n",
    "        err = sum(abs(PR[n] - PRlast[n]) for n in PR)                   # O(1) - assign value & computation\n",
    "        if err < N * tol:                                               # O(1) - comparison\n",
    "            print('Convergence Test Passed!')                           # O(1) - print message\n",
    "            return PR                                                   # O(1) - return value\n",
    "    \n",
    "    print('convergence failed')                                         # O(1) - print message\n",
    "    "
   ]
  },
  {
   "cell_type": "markdown",
   "metadata": {},
   "source": [
    "# Convergence Test"
   ]
  },
  {
   "cell_type": "markdown",
   "metadata": {},
   "source": [
    "The eigenvector calculation is done by the power iteration method and has no guarantee of convergence. Our PR script (I=100, d = 0.85) include convergence test and will test our sample data by calling PR. In this study, we will six different graphs generated from neworkx library. Graphs include path graph, directed graph, undirected graph and three different social network graphs.\n",
    "\n"
   ]
  },
  {
   "cell_type": "markdown",
   "metadata": {},
   "source": [
    "### Samples Description Chart\n",
    "\n",
    "| **Notation** | **Type of Graph** | **Comment**                                       | \n",
    "|--------------------|----------|---------------------------------------------------|\n",
    "| G1                  | path graph    | [8]path graph linearly connected nodes.; ```nx.DiGraph(nx.path_graph(m))``` |\n",
    "| G2                  | a scale-free directed graph      | [9]used in previous project; `nx.scale_free_graph(n)`\n",
    "| G3                  | undirected graph  | [10] returns the Margulis-Gabber-Galil undirected MultiGraph on n^2 nodes.; regular with degree 8. Nodes are integer pairs. The second-largest eigenvalue of the adjacency matrix of the graph is at most 5 sqrt{2}, regardless of n.; `nx.margulis_gabber_galil_graph(6)`| \n",
    "| G4                  | weighted graph   | [11]Returns Zachary's Karate Club graph; has Each node in the returned graph has a node attribute 'club' tha t indicates the name of the club to which the member represented by that node belongs, either 'Mr. Hi' or 'Officer'. Each edge has a weight based on the number of contexts in which that edge's incident node members interacted.; `nx.karate_club_graph()`|  \n",
    "| G5 | biparitite graph | [12]Returns Davis Southern women social network. This is a bipartite graph.; `nx.davis_southern_women_graph()` | \n",
    "| G6 | weighted graph | [13]florentine_families_graph(): Returns Florentine families graph.; `nx.florentine_families_graph()`\n"
   ]
  },
  {
   "cell_type": "markdown",
   "metadata": {},
   "source": [
    "#### Sample Information"
   ]
  },
  {
   "cell_type": "code",
   "execution_count": 15,
   "metadata": {},
   "outputs": [
    {
     "name": "stdout",
     "output_type": "stream",
     "text": [
      "DiGraph with 36 nodes and 70 edges\n",
      "MultiDiGraph with 36 nodes and 68 edges\n",
      "MultiGraph named 'margulis_gabber_galil_graph(6)' with 36 nodes and 144 edges\n",
      "Graph named \"Zachary's Karate Club\" with 34 nodes and 78 edges\n",
      "Graph with 32 nodes and 89 edges\n",
      "Graph with 15 nodes and 20 edges\n"
     ]
    }
   ],
   "source": [
    "# Size of samples\n",
    "\n",
    "G1 = nx.DiGraph(nx.path_graph(36))\n",
    "G2 = nx.scale_free_graph(36)\n",
    "G3 = nx.margulis_gabber_galil_graph(6)\n",
    "G4 = nx.karate_club_graph()\n",
    "G5 = nx.davis_southern_women_graph()\n",
    "G6 = nx.florentine_families_graph()\n",
    "\n",
    "Samples = [G1, G2, G3, G4, G5, G6]\n",
    "\n",
    "# return graph sample's nodes & edges\n",
    "for G in Samples:\n",
    "    print(G) \n"
   ]
  },
  {
   "cell_type": "markdown",
   "metadata": {},
   "source": [
    "#### Sample Convergence Test Results"
   ]
  },
  {
   "cell_type": "code",
   "execution_count": 16,
   "metadata": {},
   "outputs": [
    {
     "name": "stdout",
     "output_type": "stream",
     "text": [
      "Sample Graph 1 Test Result:\n",
      "Convergence Test Passed!\n",
      "\n",
      "Sample Graph 2 Test Result:\n",
      "Convergence Test Passed!\n",
      "\n",
      "Sample Graph 3 Test Result:\n",
      "Convergence Test Passed!\n",
      "\n",
      "Sample Graph 4 Test Result:\n",
      "Convergence Test Passed!\n",
      "\n",
      "Sample Graph 5 Test Result:\n",
      "Convergence Test Passed!\n",
      "\n",
      "Sample Graph 6 Test Result:\n",
      "Convergence Test Passed!\n",
      "\n"
     ]
    }
   ],
   "source": [
    "# Convergence Test\n",
    "for num, G in enumerate(Samples, 1):\n",
    "    print('Sample Graph {num} Test Result:'.format(num=num))\n",
    "    pageRank(G)\n",
    "    print()"
   ]
  },
  {
   "cell_type": "markdown",
   "metadata": {},
   "source": [
    "***"
   ]
  },
  {
   "cell_type": "markdown",
   "metadata": {},
   "source": [
    "## Theoretical Analysis"
   ]
  },
  {
   "cell_type": "markdown",
   "metadata": {},
   "source": [
    "Refer to the PageRank algorithm and the script in the previous cells. <br>\n",
    "The implementation of above PR algorithm uses an iterative method. At each iteration step, the PageRank value of all nodes in the graph are computed. <br>\n",
    "\n",
    "#### Time Complexity\n",
    "The time complexity depends on $I$, number of iterations and $N$, total number of nodes. <br>\n",
    "The algorithm starts by checking all nodes and edges to convert them into directed graph which is O(N + M)\n",
    "The main loop runs $I$ times, which is total number of iteration. <br>\n",
    "The inner loop runs $N$ times, which is the number of nodes generated <br>\n",
    "The matrix multiplication runs $N^2$ Times\n",
    "\n",
    "The time complexity’s value is $O(I * N^2)$ where I represents the specific number of iterations that needs to be run on node N. \n",
    "\n",
    "#### Space Complexity\n",
    "We use space to return pageRank value which is $O(N)$ where $N$ is total number of nodes. We also use a stochastic matrix which is $O(N^2)$. <br>\n",
    "Therefore, the total space complexity’s value is $O(N^2)$"
   ]
  },
  {
   "cell_type": "markdown",
   "metadata": {},
   "source": [
    "***"
   ]
  },
  {
   "cell_type": "markdown",
   "metadata": {},
   "source": [
    "## Empirical Time Complexity"
   ]
  },
  {
   "cell_type": "markdown",
   "metadata": {},
   "source": [
    "The empirical time analysis function takes number of nodes, pageRank function, and graph generation function.\n",
    "We will use the time.perf_counter to measure time and use a log scale plot to show small variations at a detailed level."
   ]
  },
  {
   "cell_type": "code",
   "execution_count": 17,
   "metadata": {},
   "outputs": [
    {
     "data": {
      "text/plain": [
       "'\\n[5]E. Guven, module05_ds, Jhu.edu. (2022).<br> https://jhu.instructure.com/courses/13110/pages/module-5-readings?module_item_id=1077894 (accessed July 24, 2022).<br>\\n'"
      ]
     },
     "execution_count": 17,
     "metadata": {},
     "output_type": "execute_result"
    }
   ],
   "source": [
    "# Disable printing convergence test result\n",
    "import os\n",
    "import sys\n",
    "\n",
    "# Disable printing convergence test result\n",
    "class HiddenPrints:\n",
    "    def __enter__(self):\n",
    "        self._original_stdout = sys.stdout\n",
    "        sys.stdout = open(os.devnull, 'w')\n",
    "\n",
    "    def __exit__(self, exc_type, exc_val, exc_tb):\n",
    "        sys.stdout.close()\n",
    "        sys.stdout = self._original_stdout\n",
    "\n",
    "def measure_cost(G, pageRank):\n",
    "    t = []\n",
    "    PR = None\n",
    "    num_nodes = nx.number_of_nodes(G)\n",
    "    \n",
    "    for n in range(num_nodes):\n",
    "        runs = []\n",
    "        st = perf_counter()\n",
    "        for i in range(n):\n",
    "            # Disable printing convergence test result; only time will return\n",
    "            with HiddenPrints():\n",
    "                PR = pageRank(G)\n",
    "            runs += [perf_counter()-st]\n",
    "        t += [np.mean(runs)]\n",
    "    \n",
    "\n",
    "    print('clock: ', ' '.join(['{:g}'.format(v) for v in t]))\n",
    "    # PR dataset can be used for search\n",
    "    return t, PR, num_nodes\n",
    "    # return t, num_nodes\n",
    "\n",
    "\n",
    "'''\n",
    "[5]E. Guven, module05_ds, Jhu.edu. (2022).<br> https://jhu.instructure.com/courses/13110/pages/module-5-readings?module_item_id=1077894 (accessed July 24, 2022).<br>\n",
    "'''"
   ]
  },
  {
   "cell_type": "code",
   "execution_count": 18,
   "metadata": {},
   "outputs": [
    {
     "name": "stderr",
     "output_type": "stream",
     "text": [
      "/Users/Moon/opt/anaconda3/lib/python3.8/site-packages/numpy/core/fromnumeric.py:3440: RuntimeWarning: Mean of empty slice.\n",
      "  return _methods._mean(a, axis=axis, dtype=dtype,\n",
      "/Users/Moon/opt/anaconda3/lib/python3.8/site-packages/numpy/core/_methods.py:189: RuntimeWarning: invalid value encountered in double_scalars\n",
      "  ret = ret.dtype.type(ret / rcount)\n"
     ]
    },
    {
     "name": "stdout",
     "output_type": "stream",
     "text": [
      "clock:  nan 0.0127314 0.0166462 0.0227445 0.0399368 0.0672606 0.0447402 0.0468606 0.0520019 0.0559123 0.0589514 0.0636656 0.0700691 0.0734118 0.080463 0.090572 0.102432 0.0985206 0.104766 0.10597 0.111963 0.122827 0.122735 0.135716 0.142621 0.138756 0.146884 0.156898 0.158952 0.162265 0.189485 0.172201 0.173335 0.18869 0.187617 0.202407\n",
      "clock:  nan 0.00448069 0.00629697 0.0141937 0.0237911 0.0128559 0.0143735 0.0156246 0.0180574 0.0201836 0.0228817 0.0239337 0.0257135 0.0277156 0.0294414 0.0322373 0.0374465 0.0369721 0.0383381 0.0424279 0.040601 0.0423784 0.0448778 0.0474124 0.0479967 0.054387 0.054806 0.066129 0.057732 0.0655722 0.0623011 0.0619543 0.0661109 0.0681921 0.0793907 0.0715484\n",
      "clock:  nan 0.00802182 0.0109394 0.0147784 0.0194086 0.0227618 0.0261787 0.0293409 0.0354632 0.0374657 0.0458722 0.0602486 0.074541 0.0582452 0.0580296 0.063597 0.0642406 0.0669035 0.0743853 0.0940721 0.0903924 0.0905571 0.0919118 0.0935602 0.132852 0.100838 0.106497 0.110215 0.112614 0.118578 0.119193 0.128491 0.238352 0.174792 0.154434 0.138369\n",
      "clock:  nan 0.00683632 0.00921007 0.0130413 0.0166249 0.0189462 0.0224952 0.025731 0.028593 0.0333848 0.0340886 0.0378676 0.042961 0.0517631 0.0509645 0.0499986 0.0594042 0.056304 0.0598241 0.0634419 0.0688589 0.0773551 0.154649 0.096507 0.0897619 0.0940626 0.0953437 0.105161 0.0934016 0.128267 0.110902 0.118743 0.1212 0.123952\n",
      "clock:  nan 0.0167644 0.0266318 0.0328518 0.0437015 0.0504852 0.0568091 0.0632379 0.0881083 0.0900144 0.099861 0.0915169 0.10675 0.128119 0.121781 0.119809 0.127148 0.133879 0.151219 0.147285 0.154522 0.164022 0.173633 0.184597 0.192097 0.201007 0.204842 0.216791 0.222688 0.222247 0.228037 0.24878\n",
      "clock:  nan 0.0040135 0.00592321 0.00747724 0.00902374 0.0111582 0.0129821 0.0148352 0.0167839 0.0191798 0.0208993 0.0241662 0.0256297 0.0265634 0.028314\n"
     ]
    }
   ],
   "source": [
    "# Find time \n",
    "t1, PR1, num_nodes1 = measure_cost(G1, pageRank)\n",
    "t2, PR2, num_nodes2 = measure_cost(G2, pageRank)\n",
    "t3, PR3, num_nodes3 = measure_cost(G3, pageRank)\n",
    "t4, PR4, num_nodes4 = measure_cost(G4, pageRank)\n",
    "t5, PR5, num_nodes5 = measure_cost(G5, pageRank)\n",
    "t6, PR6, num_nodes6 = measure_cost(G6, pageRank)\n",
    "\n",
    "total_time1 = t1[-1]\n",
    "total_time2 = t2[-1]\n",
    "total_time3 = t3[-1]\n",
    "total_time4 = t4[-1]\n",
    "total_time5 = t5[-1]\n",
    "total_time6 = t6[-1]"
   ]
  },
  {
   "cell_type": "markdown",
   "metadata": {},
   "source": []
  },
  {
   "cell_type": "markdown",
   "metadata": {},
   "source": [
    "***"
   ]
  },
  {
   "cell_type": "code",
   "execution_count": 1,
   "metadata": {},
   "outputs": [
    {
     "ename": "NameError",
     "evalue": "name 't4' is not defined",
     "output_type": "error",
     "traceback": [
      "\u001b[0;31m---------------------------------------------------------------------------\u001b[0m",
      "\u001b[0;31mNameError\u001b[0m                                 Traceback (most recent call last)",
      "\u001b[1;32m/Users/Moon/engineering/projects/pageRank_analysis/moon_project_updated.ipynb Cell 37\u001b[0m in \u001b[0;36m<cell line: 9>\u001b[0;34m()\u001b[0m\n\u001b[1;32m      <a href='vscode-notebook-cell:/Users/Moon/engineering/projects/pageRank_analysis/moon_project_updated.ipynb#X51sZmlsZQ%3D%3D?line=5'>6</a>\u001b[0m         t\u001b[39m.\u001b[39mappend(np\u001b[39m.\u001b[39mnan)\n\u001b[1;32m      <a href='vscode-notebook-cell:/Users/Moon/engineering/projects/pageRank_analysis/moon_project_updated.ipynb#X51sZmlsZQ%3D%3D?line=6'>7</a>\u001b[0m     \u001b[39mreturn\u001b[39;00m \u001b[39mlen\u001b[39m(t)\n\u001b[0;32m----> <a href='vscode-notebook-cell:/Users/Moon/engineering/projects/pageRank_analysis/moon_project_updated.ipynb#X51sZmlsZQ%3D%3D?line=8'>9</a>\u001b[0m resize(t4)\n\u001b[1;32m     <a href='vscode-notebook-cell:/Users/Moon/engineering/projects/pageRank_analysis/moon_project_updated.ipynb#X51sZmlsZQ%3D%3D?line=9'>10</a>\u001b[0m resize(t5)\n\u001b[1;32m     <a href='vscode-notebook-cell:/Users/Moon/engineering/projects/pageRank_analysis/moon_project_updated.ipynb#X51sZmlsZQ%3D%3D?line=10'>11</a>\u001b[0m resize(t6)\n",
      "\u001b[0;31mNameError\u001b[0m: name 't4' is not defined"
     ]
    }
   ],
   "source": [
    "# G4, G5, G6 have less than 36 nodes. In order to visualize data, we adds None value\n",
    "def resize(t):\n",
    "    t = t\n",
    "    diff = 36 - len(t)\n",
    "    for i in range(diff):\n",
    "        t.append(np.nan)\n",
    "    return len(t)\n",
    "        \n",
    "resize(t4)\n",
    "resize(t5)\n",
    "resize(t6)"
   ]
  },
  {
   "cell_type": "code",
   "execution_count": null,
   "metadata": {},
   "outputs": [],
   "source": []
  },
  {
   "cell_type": "code",
   "execution_count": 20,
   "metadata": {},
   "outputs": [
    {
     "data": {
      "text/plain": [
       "'\\nReferences\\n----------\\n[5]E. Guven, module05_ds, Jhu.edu. (2022).\\nhttps://jhu.instructure.com/courses/13110/pages/module-5-readings?module_item_id=1077894 (accessed July 24, 2022).\\n'"
      ]
     },
     "execution_count": 20,
     "metadata": {},
     "output_type": "execute_result"
    },
    {
     "data": {
      "image/png": "[encoded data removed]",
      "text/plain": [
       "<Figure size 432x288 with 1 Axes>"
      ]
     },
     "metadata": {
      "needs_background": "light"
     },
     "output_type": "display_data"
    }
   ],
   "source": [
    "# Plot\n",
    "# {'Graph size $n$': [n for n in range(25)],\n",
    "df = pd.DataFrame( {'G1': t1,\n",
    "                   'G2': t2,\n",
    "                   'G3': t3,\n",
    "                   'G4': t4,\n",
    "                   'G5': t5,\n",
    "                   'G6': t6,\n",
    "                   '$\\mathcal{O}(n^2)$*I':     [100 * 1e-6*n**2 for n in range(36)],\n",
    "                #    '$\\mathcal{O}(n^2)$':     [1e-6*n**2 for n in range(36)],\n",
    "                   })\n",
    "\n",
    "# df.set_index('Graph size $n$', drop=True, inplace=True)\n",
    "\n",
    "fig = df.plot().get_figure()\n",
    "\n",
    "plt.legend(bbox_to_anchor=(1.01, 1.0))\n",
    "plt.ylabel('time')\n",
    "plt.grid()\n",
    "plt.xscale('linear')\n",
    "plt.yscale('log')\n",
    "plt.xlabel('num of nodes traversed (')\n",
    "\n",
    "# fig.savefig('page_Rank_01.png')\n",
    "'''\n",
    "References\n",
    "----------\n",
    "[5]E. Guven, module05_ds, Jhu.edu. (2022).\n",
    "https://jhu.instructure.com/courses/13110/pages/module-5-readings?module_item_id=1077894 (accessed July 24, 2022).\n",
    "'''\n"
   ]
  },
  {
   "cell_type": "markdown",
   "metadata": {},
   "source": [
    "### Samples Description Chart\n",
    "\n",
    "| **Notation** | **Type of Graph** | **num of nodes** | **num of edges** | **Comment**                                       | \n",
    "|--------------------|----------|-|-|---------------------------------------------------|\n",
    "| G1                  | path graph    | 36 |70| [8]path graph linearly connected nodes.; nx.DiGraph(nx.path_graph(4)) |\n",
    "| G2                  | a scale-free directed graph      |36|78| [9]used in previous project; nx.scale_free_graph(n)\n",
    "| G3                  | undirected graph  |36|144| [10] returns the Margulis-Gabber-Galil undirected MultiGraph on n^2 nodes.; regular with degree 8. Nodes are integer pairs. The second-largest eigenvalue of the adjacency matrix of the graph is at most 5 sqrt{2}, regardless of n.                             |\n",
    "| G4                  | weighted graph   | 34 | 78 | [11]Returns Zachary's Karate Club graph; has Each node in the returned graph has a node attribute 'club' tha t indicates the name of the club to which the member represented by that node belongs, either 'Mr. Hi' or 'Officer'. Each edge has a weight based on the number of contexts in which that edge's incident node members interacted.|  \n",
    "| G5 | biparitite graph | 32 | 89 | [12]Returns Davis Southern women social network. This is a bipartite graph. | \n",
    "| G6 | weighted graph |15 |20 |[13]florentine_families_graph(); Returns Florentine families graph.\n"
   ]
  },
  {
   "cell_type": "markdown",
   "metadata": {},
   "source": [
    "***"
   ]
  },
  {
   "cell_type": "code",
   "execution_count": 21,
   "metadata": {},
   "outputs": [
    {
     "data": {
      "text/plain": [
       "'\\nReferences\\n----------\\n[5]E. Guven, module05_ds, Jhu.edu. (2022).\\nhttps://jhu.instructure.com/courses/13110/pages/module-5-readings?module_item_id=1077894 (accessed July 24, 2022).\\n'"
      ]
     },
     "execution_count": 21,
     "metadata": {},
     "output_type": "execute_result"
    },
    {
     "data": {
      "image/png": "[encoded data removed]",
      "text/plain": [
       "<Figure size 432x288 with 1 Axes>"
      ]
     },
     "metadata": {
      "needs_background": "light"
     },
     "output_type": "display_data"
    }
   ],
   "source": [
    "# We stored total time before resizing (adding non values for comparison purpose) G4, G5, G6 \n",
    "'''\n",
    "total_time1 = t1[-1]\n",
    "total_time2 = t2[-1]\n",
    "total_time3 = t3[-1]\n",
    "total_time4 = t4[-1]\n",
    "total_time5 = t5[-1]\n",
    "total_time6 = t6[-1]\n",
    "'''\n",
    "\n",
    "# Plot\n",
    "# Time Rank using\n",
    "\n",
    "# from operator import index\n",
    "from turtle import color\n",
    "df = pd.DataFrame(\n",
    "{'Samples':['G1', 'G2', 'G3', 'G4', 'G5', 'G6'],\n",
    "               'algorithm time': [total_time1, total_time2, total_time3, total_time4, total_time5, total_time6]}\n",
    "                  )\n",
    "\n",
    "\n",
    "# df.plot.barh()\n",
    "sorted_values = df.sort_values(by='algorithm time', ascending=False)\n",
    "ax = sorted_values.plot.barh(x='Samples', y='algorithm time', color=[\n",
    "                             'blue', 'orange', 'green', 'red', 'purple', 'brown'], mark_right=True)\n",
    "\n",
    "plt.xlabel('Algorithm Time')\n",
    "plt.grid(axis='x')\n",
    "plt.title('PageRank Total Time by Samples Ranking')\n",
    "\n",
    "'''\n",
    "References\n",
    "----------\n",
    "[5]E. Guven, module05_ds, Jhu.edu. (2022).\n",
    "https://jhu.instructure.com/courses/13110/pages/module-5-readings?module_item_id=1077894 (accessed July 24, 2022).\n",
    "'''\n"
   ]
  },
  {
   "cell_type": "markdown",
   "metadata": {},
   "source": [
    "***"
   ]
  },
  {
   "cell_type": "markdown",
   "metadata": {},
   "source": [
    "# Conclusion"
   ]
  },
  {
   "cell_type": "markdown",
   "metadata": {},
   "source": [
    "The importance of a Web page is subjective which depends on users interests and backgrounds. However, using pageRank algorithm, it can measures relative importance of Webpages. \n",
    "\n",
    "In this study, we briefly demonstrated about PageRank algorithm and its theoretical and empirical complexity. PageRank algorithms are important members of centrality algorithms which identify most important vertices of a graph by measuring the direct influence of nodes based on proportional rank.\n",
    "\n",
    "We examined the PageRank algorithm. We empirically showed that the algorithm can run in $O(N^2 * I)$ time where $N$ represents total number of nodes given graph and $I$ represents iterations."
   ]
  },
  {
   "cell_type": "markdown",
   "metadata": {},
   "source": [
    "***"
   ]
  },
  {
   "cell_type": "markdown",
   "metadata": {},
   "source": [
    "## References\n",
    "\n",
    "\n",
    "[1]Wikipedia Contributors, PageRank, Wikipedia. (2022).<br> https://en.wikipedia.org/wiki/PageRank (accessed July 24, 2022).<br>\n",
    "<br>\n",
    "[2]Graph generators — NetworkX 2.8.5 documentation, Networkx.org. (2019).<br> https://networkx.org/documentation/stable/reference/generators.html (accessed July 24, 2022).<br>\n",
    "<br>\n",
    "[3]pagerank — NetworkX 2.8.5 documentation, Networkx.org. (2022).<br> https://networkx.org/documentation/stable/reference/algorithms/generated/networkx.algorithms.link_analysis.pagerank_alg.pagerank.html (accessed July 24, 2022).<br>\n",
    "<br>\n",
    "[4]L. Page, S. Brin, R. Motwani, T. Winograd, The PageRank Citation Ranking: Bringing Order to the Web. - Stanford InfoLab Publication Server, Stanford.edu. (1999).<br> https://doi.org/http://ilpubs.stanford.edu:8090/422/1/1999-66.pdf.<br>\n",
    "<br>\n",
    "[5]E. Guven, module05_ds, Jhu.edu. (2022).<br> https://jhu.instructure.com/courses/13110/pages/module-5-readings?module_item_id=1077894 (accessed July 24, 2022).<br>\n",
    "\n",
    "[6]R. Mihalcea, P. Tarau, TextRank: Bringing Order into Texts, n.d.<br> https://digital.library.unt.edu/ark:/67531/metadc30962/m2/1/high_res_d/Mihalcea-2004-TextRank-Bringing_Order_into_Texts.pdf.\n",
    "\n",
    "[7]\n",
    "path_graph — NetworkX 2.8.5 documentation, Networkx.org. (2022).<br> https://networkx.org/documentation/stable/reference/generated/networkx.generators.classic.path_graph.html#networkx.generators.classic.path_graph (accessed July 26, 2022).<br>\n",
    "\n",
    "[8]\n",
    "path_graph — NetworkX 2.8.5 documentation, Networkx.org. (2022).<br> https://networkx.org/documentation/stable/reference/generated/networkx.generators.classic.path_graph.html#networkx.generators.classic.path_graph (accessed July 26, 2022).<br>\n",
    "\n",
    "[9]\n",
    "scale_free_graph — NetworkX 2.8.5 documentation, Networkx.org. (2022). https://networkx.org/documentation/stable/reference/generated/networkx.generators.directed.scale_free_graph.html (accessed July 26, 2022).<br>\n",
    "\n",
    "[10]\n",
    "karate_club_graph — NetworkX 2.8.5 documentation, Networkx.org. (2022).<br> https://networkx.org/documentation/stable/reference/generated/networkx.generators.social.karate_club_graph.html#networkx.generators.social.karate_club_graph (accessed July 26, 2022).<br>\n",
    "\n",
    "[11]\n",
    "karate_club_graph — NetworkX 2.8.5 documentation, Networkx.org. (2022).<br> https://networkx.org/documentation/stable/reference/generated/networkx.generators.social.karate_club_graph.html#networkx.generators.social.karate_club_graph (accessed July 26, 2022).<br>\n",
    "\n",
    "[12]\n",
    "davis_southern_women_graph — NetworkX 2.8.5 documentation, Networkx.org. (2022)<br>. https://networkx.org/documentation/stable/reference/generated/networkx.generators.social.davis_southern_women_graph.html (accessed July 26, 2022).<br>\n",
    "\n",
    "[13]\n",
    "florentine_families_graph — NetworkX 2.8.5 documentation, Networkx.org. (2022).<br> https://networkx.org/documentation/stable/reference/generated/networkx.generators.social.florentine_families_graph.html (accessed July 26, 2022).<br>\n",
    "\n",
    "[14]\n",
    "B. Ali, School of Education, Culture and Communication Division of Applied Mathematics MASTER (1 YEAR) THESIS IN MATHEMATICS / APPLIED MATHEMATICS<br> A comparison of a Lazy PageRank and variants for common graph structures, n.d.<br> https://mdh.diva-portal.org/smash/get/diva2:1179590/FULLTEXT01.pdf.<br>\n",
    "\n",
    "    \n"
   ]
  },
  {
   "cell_type": "markdown",
   "metadata": {},
   "source": [
    "# function => outside of classes\n",
    "# methods are part of class"
   ]
  },
  {
   "cell_type": "code",
   "execution_count": 1,
   "metadata": {},
   "outputs": [],
   "source": [
    "import json\n",
    "# function: saves in data in JSON for\n",
    "# convert json => python string format\n",
    "def dump_json(outfile_name, result):\n",
    "    with open(outfile_name, 'w') as outfile:\n",
    "        outfile.write(json.dumps(result, indent=4, separators=(',', ': ')))\n",
    "        \n",
    "# Convert Python String into Json format\n",
    "def load_json(file_name):\n",
    "    # open the file and save it as f\n",
    "    with open(file_name) as f:\n",
    "        # using json \n",
    "        return json.loads(f.read())\n",
    "\n",
    "# string form to class dictionary\n",
    "json_string = '''\n",
    "{\"students\": [ {\"id\":1,\"name\": \"Tim\",\"age\": 21\n",
    "}, {\"id\":2,\"name\": \"Randy\",\"age\": 22}]\n",
    "}\n",
    "'''\n",
    "print(json_string, \"type of the json_string is: \", type(json_string))\n",
    "# loading json files\n",
    "#json. load string() converts string to json form\n",
    "data = json.loads(json_string)\n",
    "\n",
    "print(data, 'type is', type(data))\n",
    "print(data['students'][1][\"name\"])\n",
    "\n",
    "# given json and after editing, convert to in to python string form\n",
    "\n",
    "json_string = '''\n",
    "    {\n",
    "        \"students\": [\n",
    "            { \"id\": 1, \n",
    "            \"name\": \"Moon\",\n",
    "            \"full-time\": false },\n",
    "            \n",
    "            {\n",
    "                \"id\": 2,\n",
    "                \"name\": \"Kim\",\n",
    "                \"full-time\": true \n",
    "            }\n",
    "        ]\n",
    "    }\n",
    "'''\n",
    "\n",
    "# load the string into json\n",
    "json_format = json.loads(json_string)\n",
    "print(json_format)\n",
    "json_format[\"students\"][0][\"name\"] = \"King the Moon\"\n",
    "print(json_format)\n",
    "\n",
    "# convert to json string\n",
    "# dump String\n",
    "# we can pass identation\n",
    "# can also sort\n",
    "reverse_json_to_string = json.dumps(json_format, indent=2, sort_keys=True)\n",
    "\n",
    "print(reverse_json_to_string)\n"
   ]
  },
  {
   "cell_type": "markdown",
   "metadata": {},
   "source": []
  }
 ],
 "metadata": {
  "kernelspec": {
   "display_name": "Python 3.8.5 ('base')",
   "language": "python",
   "name": "python3"
  },
  "language_info": {
   "codemirror_mode": {
    "name": "ipython",
    "version": 3
   },
   "file_extension": ".py",
   "mimetype": "text/x-python",
   "name": "python",
   "nbconvert_exporter": "python",
   "pygments_lexer": "ipython3",
   "version": "3.8.5"
  },
  "orig_nbformat": 4,
  "vscode": {
   "interpreter": {
    "hash": "baa2e52980430d335b97b133b9bdc90c6ba1b985616caf224317f930da22a067"
   }
  }
 },
 "nbformat": 4,
 "nbformat_minor": 2
}
