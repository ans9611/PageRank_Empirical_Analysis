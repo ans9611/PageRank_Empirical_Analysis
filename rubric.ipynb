{
 "cells": [
  {
   "cell_type": "markdown",
   "metadata": {},
   "source": [
    "# Project Final Report \n"
   ]
  },
  {
   "cell_type": "markdown",
   "metadata": {},
   "source": [
    "\n",
    "Project report must contain:\n",
    "\n",
    "1. Details about the algorithm of choice (Why did we study this algorithm? What pieces does it have? Data structures, algorithm strategies?)\n",
    "2. Theoretical analysis (complexities {time,space})\n",
    "3. Empirical analysis (verification of complexities, implementation details)\n",
    "4. Actual code of the algorithm which you have used for empirical analysis\n",
    "5. Conclusions"
   ]
  }
 ],
 "metadata": {
  "language_info": {
   "name": "python"
  },
  "orig_nbformat": 4
 },
 "nbformat": 4,
 "nbformat_minor": 2
}
