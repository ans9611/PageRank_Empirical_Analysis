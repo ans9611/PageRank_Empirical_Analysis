{
 "cells": [
  {
   "cell_type": "markdown",
   "metadata": {},
   "source": [
    "                                                                                                                        © Moon"
   ]
  },
  {
   "cell_type": "markdown",
   "metadata": {},
   "source": [
    "# Project Report: Evaluation of the Centrality Algorithm, PageRank\n",
    "***"
   ]
  },
  {
   "cell_type": "markdown",
   "metadata": {},
   "source": [
    "## Introduction"
   ]
  },
  {
   "cell_type": "markdown",
   "metadata": {},
   "source": [
    "Centrality algorithms are one of the categories of graph algorithms. They identify the important nodes in a given graph and those nodes are defined as vertices with many direct or indirect connections.  One of the centrality algorithms is called $PageRank(PR)$ which identify most important vertices of a graph by measuring the direct influence of nodes based on proportional rank. [1]PR is invented by Larray Page and used by Google Search to rank web pages in their search engine results.\n",
    "\n",
    "This notebook demonstrates:\n",
    "- The PageRank algorithm\n",
    "- Implementation the Classic PageRank algorithm and explore it on graphs generated from Networks, python library.\n",
    "- Measuring time complexity theoretically\n",
    "- Measuring time complexity empirically"
   ]
  },
  {
   "cell_type": "markdown",
   "metadata": {},
   "source": [
    "***"
   ]
  },
  {
   "cell_type": "markdown",
   "metadata": {},
   "source": [
    "## Simplified PageRank"
   ]
  },
  {
   "cell_type": "markdown",
   "metadata": {},
   "source": [
    "[2]PageRank is a link analysis algorithm and it assigns a numerical weighting to each element of a hyperlinked set of documents, such as the World Wide Web, with the purpose of \"measuring\" its relative importance within the set. The output of PR is the probability that a person randomly surfing will arrive arrive at any particular page. It is assumed that the input distribution is evenly divided at the beginning of PR process. \n",
    "\n",
    "PR takes three inputs; $number of pages$, damping factor, and a number of iterations. The PageRank relies on an arbitrary probability distribution in which a person randomly clicks on links will arrive at any particular page. The probability which a person independently will continue is a damping factor $d$. PR computations require iterations through a number of pages to adjust approximate PR values to the theoretical value.\n",
    "\n",
    "[1]The result of node with a PR of 0.4 for instance, means there is 40% chance that a person randomly surf will be directed to the node. The implementation of the classic PageRank algorithm uses an iterative method. At each iteration step, the PageRank value of all nodes in the graph are computed."
   ]
  },
  {
   "cell_type": "markdown",
   "metadata": {},
   "source": [
    "### PageRank Formula\n",
    "\n",
    "[6]let G = (V, E) be a directed graph with the set of vertices V and et of edges E, where E is subset of V x V. <br>\n",
    "For a given Vi, let In(Vi) be predecessors, set of vertices point to it, and let Out(Vi) be successors, the set of vertices that vertex Vi points to. Then The iteration equation of the page rank value of  𝑖  is given by\n",
    "\n",
    "PR(Vi) = (1 - d) + d * $\\sum_{j=In(Vi)}^{} 1/|Out(Vj)|$ PR(Vj)\n",
    " <br>\n",
    "       => (1-d)/N + d*(PR(n1)/num_neighbors(n1) + ... + PR(n_last)/num_neighbors(n_last))**\n",
    "\n",
    "where \n",
    "- the damping factor $d$\n",
    "- $\\frac{d}{n}$ denotes random walk score\n",
    "- $OutputDegree(P_j)$ denote how many pages are linked as children pages for the page $j$."
   ]
  },
  {
   "cell_type": "markdown",
   "metadata": {},
   "source": [
    "## Assumption\n",
    "\n",
    "In the early PageRank, there limitations:\n",
    "- [5]Rank Sinks: A rank sink occurs when a page does not link out. Rank sinks occurs when by refusing to share. \n",
    "\n",
    "- [5]Hoarding: a group of pages that only link between each other will also monopolize PageRank, creating error. \n",
    "\n",
    "- [5]Circular references: A couple of pages that only link between themselves and do not link to any other page. The iterative process will never converge, creating infinity loop.\n",
    "\n",
    "Therefore, in this study, we will make a set of simplifying assumptions:\n",
    "- we will be using only directed graphs generated from NetworkX library. \n",
    "- the generated graph has unweighted nodes; error rate is close to 0 when number of iterations > 5\n",
    "- damping factor does not affect the rate of convergence\n"
   ]
  },
  {
   "cell_type": "markdown",
   "metadata": {},
   "source": [
    "### Algorithm Steps\n",
    "The implementation of the classic PageRank algorithm uses an iterative method. At each iteration step, the PageRank value of all nodes in the graph are computed.\n",
    "\n",
    "1. Initialize the PageRank of every node with a value of 1/n\n",
    "2. Iterate through the graph. For each iteration, update the PageRank of every node in the graph.\n",
    "   1. For the first page, it only processes through random walk. \n",
    "   2. For other pages, they can process through random walk or inter-page links. \n",
    "   3. Sum up the proportional rank from all of its in-neighbors\n",
    "   4. Update the PageRank with the weighted sum of proportional rank and random walk\n",
    "3. Normalize the PageRank when there is terminal point. PageRank value will converge after enough iterations\n",
    "5. Return PR scores"
   ]
  },
  {
   "cell_type": "markdown",
   "metadata": {},
   "source": [
    "***"
   ]
  },
  {
   "cell_type": "markdown",
   "metadata": {},
   "source": [
    "## Canonical Test "
   ]
  },
  {
   "cell_type": "code",
   "execution_count": null,
   "metadata": {},
   "outputs": [],
   "source": [
    "# import nx packages\n",
    "import networkx as nx\n",
    "\n",
    "num_nodes = [5, 10, 15, 30, 50, 100]\n",
    "\n",
    "def node_f(n):\n",
    "    # Create a scale-free graph on given number of nodes\n",
    "    return nx.scale_free_graph(n)\n",
    "\n"
   ]
  },
  {
   "cell_type": "markdown",
   "metadata": {},
   "source": [
    "# The Algorithm Script"
   ]
  },
  {
   "cell_type": "markdown",
   "metadata": {},
   "source": [
    "| **Input Argument** | **Type** | **Comment**                                       | \n",
    "|--------------------|----------|---------------------------------------------------|\n",
    "| G                  | graph    | input graph; will be converted to number of nodes |\n",
    "| n                  | int      | total number of nodes of given graph (G)          |     \n",
    "| d                  | float    | damping factor; the probability of random walk                                    |\n",
    "| I                  | int    | the number of iteration                       |"
   ]
  },
  {
   "cell_type": "markdown",
   "metadata": {},
   "source": [
    "| **Output Argument** | **Type** | **Comment**                                                           |\n",
    "|---------------------|----------|-----------------------------------------------------------------------|\n",
    "| PR                  | array    | node property where the PageRank value for each node will be written. |\n"
   ]
  },
  {
   "cell_type": "code",
   "execution_count": null,
   "metadata": {},
   "outputs": [
    {
     "data": {
      "text/plain": [
       "'\\nReferences\\n----------\\n[1]“Networkx.algorithms.link_analysis.pagerank_alg — NetworkX 2.8.5 Documentation.” \\nNetworkx.org, 2022, networkx.org/documentation/stable/_modules/networkx/algorithms/link_analysis/pagerank_alg.html#pagerank. \\nAccessed 24 July 2022.\\n'"
      ]
     },
     "execution_count": 72,
     "metadata": {},
     "output_type": "execute_result"
    }
   ],
   "source": [
    "# import packages\n",
    "import matplotlib.pyplot as plt\n",
    "import numpy as np\n",
    "import pandas as pd\n",
    "import itertools\n",
    "import random\n",
    "from time import perf_counter\n",
    "\n",
    "def pageRank(G, d = 0.85, I = 100):\n",
    "    # converts input graph into number of nodes\n",
    "    n = nx.number_of_nodes(G)           # O(n) - traverse every nodes to count total number of nodes \n",
    "    \n",
    "    # Step 1: Initialize the PageRank of every node with a value of 1/n | O(n)\n",
    "    PR = np.ones(n)/n               # O(1) computation\n",
    "\n",
    "    # Step 2: For each iteration, update the PageRank of every node in the graph.\n",
    "    for i_t in range(I):                                                # O(I) where I is number of iteration\n",
    "        \n",
    "    # 2-1: For the first page, it only processes through random walk. \n",
    "        rand = 1 / n                                                    # O(1) - assign value & computation\n",
    "        PR[0] = d * rand                                                # O(1) - assign value & computation\n",
    "\n",
    "        #  2-2: For other pages, they can process through random walk or inter-page links.\n",
    "        for i in range(1, n):                                           # O(n) where n is number of pages\n",
    "            \n",
    "            # 2 - 3: Sum up the proportional rank from all of its in-neighbors \n",
    "            i_prop = PR[i-1] / 1                                        # O(1) - assign value & computation\n",
    "            # 2 - 4: Update the PageRank with the weighted sum of proportional rank and random walk\n",
    "            PR[i] = d * rand + (1-d) * i_prop                           # O(1) - update variable & computation\n",
    "\n",
    "# Step 3: normalize PR when there is terminal point\n",
    "    PR /= PR.sum()                                                      # O(1) - computation\n",
    "    return PR                                                           # O(1) - returning value\n"
   ]
  },
  {
   "cell_type": "markdown",
   "metadata": {},
   "source": [
    "***"
   ]
  },
  {
   "cell_type": "markdown",
   "metadata": {},
   "source": [
    "## Theoretical Analysis"
   ]
  },
  {
   "cell_type": "markdown",
   "metadata": {},
   "source": [
    "Refer to the simplified PR algorithm and the script in the previous cells. <br>\n",
    "The implementation of above PR algorithm uses an iterative method. At each iteration step, the PageRank value of all nodes in the graph are computed. <br>\n",
    "\n",
    "The time complexity depends on I, number of iterations and N, total number of nodes.\n",
    "\n",
    "The main loop runs I times, which is total number of iteration. <br>\n",
    "The inner loo p runs n times, which is the number of nodes generated <br>\n",
    "<br>\n",
    "\n",
    "The time complexity’s value is O(I * N) where I represents the specific number of iterations that needs to be run on node N. \n",
    "The space complexity’s value is O(N) where n is total number of nodes. since we keep only the given nodes information. "
   ]
  },
  {
   "cell_type": "markdown",
   "metadata": {},
   "source": [
    "# Empirical Time Complexity"
   ]
  },
  {
   "cell_type": "markdown",
   "metadata": {},
   "source": [
    "The empirical time analysis function takes number of nodes, pageRank function, and graph generation function.\n",
    "\n",
    "The PR score is returned as an array and can be iterable so its value can be 1 or more depending on the input sizes. For example a tree node would be a value only but a hash would require key and value. Inner loop runs 10 times to reduce the variation of the measurement for statistical purposes.\n",
    "\n",
    "We will use the time.perf_counter to measure time and use a log scale plot to show very small variations at a detailed level."
   ]
  },
  {
   "cell_type": "code",
   "execution_count": null,
   "metadata": {},
   "outputs": [
    {
     "data": {
      "text/plain": [
       "'\\nReferences\\n----------\\n[1]module05_05.reivew_of_Data_Structures — Foundation of Algo Documentation.” \\nGuven, 2022,\\nAccessed 24 July 2022.\\n'"
      ]
     },
     "execution_count": 33,
     "metadata": {},
     "output_type": "execute_result"
    }
   ],
   "source": [
    "from time import perf_counter\n",
    "from random import randint\n",
    "import pandas as pd\n",
    "import numpy as np\n",
    "import matplotlib.pyplot as plt\n",
    "%matplotlib inline\n",
    "\n",
    "# def node_f(n):\n",
    "#     return nx.scale_free_graph(n) # Create a scale-free graph on given number of nodes\n",
    "\n",
    "# Page Rank returns array of output; page Rank takes in graphs; therefore, graphs should be generated and \n",
    "# input: number of nodes of PR time\n",
    "\n",
    "def measure_cost(num_nodes, pageRank, node_f):\n",
    "    t = []\n",
    "    PR = None\n",
    "    for n in num_nodes:\n",
    "        runs = []\n",
    "        st = perf_counter()\n",
    "        for i in range(n):\n",
    "            G = node_f(i)\n",
    "            PR = pageRank(G)\n",
    "            \n",
    "            runs += [perf_counter()-st]\n",
    "        t += [np.mean(runs)]\n",
    "\n",
    "    print('clock: ', ' '.join(['{:g}'.format(v) for v in t]))\n",
    "    # PR dataset can be used for search\n",
    "    return t, PR\n",
    "\n",
    "'''\n",
    "[5]E. Guven, module05_ds, Jhu.edu. (2022).<br> https://jhu.instructure.com/courses/13110/pages/module-5-readings?module_item_id=1077894 (accessed July 24, 2022).<br>\n",
    "'''"
   ]
  },
  {
   "cell_type": "code",
   "execution_count": null,
   "metadata": {},
   "outputs": [
    {
     "name": "stdout",
     "output_type": "stream",
     "text": [
      "clock:  0.000257199 0.00171029 0.00479753 0.0102145 0.0436353 0.236668 0.391075\n"
     ]
    }
   ],
   "source": [
    "num_nodes = [5, 10, 15, 30, 50, 100]\n",
    "\n",
    "t1, ds1 = measure_cost(num_nodes, pageRank, node_f)\n",
    "\n",
    "\n",
    "'''\n",
    "References\n",
    "----------\n",
    "[5]E. Guven, module05_ds, Jhu.edu. (2022).\n",
    "https://jhu.instructure.com/courses/13110/pages/module-5-readings?module_item_id=1077894 (accessed July 24, 2022).\n",
    "'''"
   ]
  },
  {
   "cell_type": "code",
   "execution_count": null,
   "metadata": {},
   "outputs": [
    {
     "data": {
      "image/png": "[encoded data removed]",
      "text/plain": [
       "<Figure size 432x288 with 1 Axes>"
      ]
     },
     "metadata": {
      "needs_background": "light"
     },
     "output_type": "display_data"
    }
   ],
   "source": [
    "# Plot\n",
    "df = pd.DataFrame({'Graph size $n$':  num_nodes,\n",
    "                   'PageRank':        t1,\n",
    "                   '$\\mathcal{O}(n^2)$*I':     [100 * 1e-6*n**2 for n in num_nodes],\n",
    "                   '$\\mathcal{O}(n^2)$':     [1e-6*n**2 for n in num_nodes],\n",
    "                   })\n",
    "\n",
    "df.set_index('Graph size $n$', drop=True, inplace=True)\n",
    "\n",
    "fig = df.plot().get_figure()\n",
    "\n",
    "plt.legend(bbox_to_anchor=(1.01, 1.0))\n",
    "\n",
    "plt.ylabel('time')\n",
    "plt.grid()\n",
    "plt.xscale('log')\n",
    "plt.yscale('log')\n",
    "\n",
    "fig.savefig('page_Rank_01.png')\n",
    "'''\n",
    "References\n",
    "----------\n",
    "[5]E. Guven, module05_ds, Jhu.edu. (2022).\n",
    "https://jhu.instructure.com/courses/13110/pages/module-5-readings?module_item_id=1077894 (accessed July 24, 2022).\n",
    "'''\n"
   ]
  },
  {
   "cell_type": "markdown",
   "metadata": {},
   "source": [
    "***"
   ]
  },
  {
   "cell_type": "markdown",
   "metadata": {},
   "source": [
    "# Conclusion"
   ]
  },
  {
   "cell_type": "markdown",
   "metadata": {},
   "source": [
    "The importance of a Web page is subjective which depends on users interests and backgrounds. However, using PR algorithm, it can measrures relative importance of Webpages.\n",
    "In this study, we briefly demonstrated about PageRank algorithm and its theoretical and empirical complexity. PageRank algorithms are important members of centrality algorithms which identify most important vertices of a graph by measuring the direct influence of nodes based on proportional rank.\n",
    "\n",
    "We examined the simplified PageRank algorithm. We empirically showed that the algorithm can run in O(N^2 * I) time where N represents total number of nodes given graph and I represents iterations.\n"
   ]
  },
  {
   "cell_type": "markdown",
   "metadata": {},
   "source": [
    "***"
   ]
  },
  {
   "cell_type": "markdown",
   "metadata": {},
   "source": [
    "## References"
   ]
  },
  {
   "cell_type": "markdown",
   "metadata": {},
   "source": [
    "[1]Wikipedia Contributors, PageRank, Wikipedia. (2022).<br> https://en.wikipedia.org/wiki/PageRank (accessed July 24, 2022).<br>\n",
    "<br>\n",
    "[2]Graph generators — NetworkX 2.8.5 documentation, Networkx.org. (2019).<br> https://networkx.org/documentation/stable/reference/generators.html (accessed July 24, 2022).<br>\n",
    "<br>\n",
    "[3]pagerank — NetworkX 2.8.5 documentation, Networkx.org. (2022).<br> https://networkx.org/documentation/stable/reference/algorithms/generated/networkx.algorithms.link_analysis.pagerank_alg.pagerank.html (accessed July 24, 2022).<br>\n",
    "<br>\n",
    "[4]L. Page, S. Brin, R. Motwani, T. Winograd, The PageRank Citation Ranking: Bringing Order to the Web. - Stanford InfoLab Publication Server, Stanford.edu. (1999).<br> https://doi.org/http://ilpubs.stanford.edu:8090/422/1/1999-66.pdf.<br>\n",
    "<br>\n",
    "[5]E. Guven, module05_ds, Jhu.edu. (2022).<br> https://jhu.instructure.com/courses/13110/pages/module-5-readings?module_item_id=1077894 (accessed July 24, 2022).<br>\n",
    "\n",
    "[6]R. Mihalcea, P. Tarau, TextRank: Bringing Order into Texts, n.d.<br> https://digital.library.unt.edu/ark:/67531/metadc30962/m2/1/high_res_d/Mihalcea-2004-TextRank-Bringing_Order_into_Texts.pdf."
   ]
  },
  {
   "cell_type": "markdown",
   "metadata": {},
   "source": [
    "***\n",
    "***"
   ]
  }
 ],
 "metadata": {
  "kernelspec": {
   "display_name": "Python 3.8.5 ('base')",
   "language": "python",
   "name": "python3"
  },
  "language_info": {
   "codemirror_mode": {
    "name": "ipython",
    "version": 3
   },
   "file_extension": ".py",
   "mimetype": "text/x-python",
   "name": "python",
   "nbconvert_exporter": "python",
   "pygments_lexer": "ipython3",
   "version": "3.8.5"
  },
  "orig_nbformat": 4,
  "vscode": {
   "interpreter": {
    "hash": "baa2e52980430d335b97b133b9bdc90c6ba1b985616caf224317f930da22a067"
   }
  }
 },
 "nbformat": 4,
 "nbformat_minor": 2
}
