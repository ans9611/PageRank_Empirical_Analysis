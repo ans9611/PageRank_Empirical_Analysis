{
 "cells": [
  {
   "cell_type": "markdown",
   "metadata": {},
   "source": [
    "- Algorithm description\n",
    "- Algorithm code\n",
    "- Empirical and canonical test dataset\n",
    "- Performance measures (analytical and empirical)\n",
    "- Evaluation\n",
    "- Conclusion\n"
   ]
  },
  {
   "cell_type": "markdown",
   "metadata": {},
   "source": [
    "                                                                                                                        © Moon"
   ]
  },
  {
   "cell_type": "markdown",
   "metadata": {},
   "source": [
    "# Project Report: Evaluation of the Centrality Algorithm, PageRank"
   ]
  },
  {
   "cell_type": "markdown",
   "metadata": {},
   "source": [
    "## Introduction"
   ]
  },
  {
   "cell_type": "markdown",
   "metadata": {},
   "source": [
    "Centrality algorithms are one of the categories of graph algorithms. They identify the important nodes in a given graph and those nodes are defined as vertices with many direct or indirect connections.  One of the centrality algorithms is called $PageRank(PR)$ which identify most important vertices of a graph by measuring the direct influence of nodes based on proportional rank.  [2]PR is invented by Larray Page and used by Google Search to rank web pages in their search engine results.\n",
    "\n",
    "This notebook demonstrates:\n",
    "- The PageRank algorithm\n",
    "- Implementation the Classic PageRank algorithm and explore it on graphs generated from Networks, python library.\n",
    "- Measuring time complexity theoretically\n",
    "- Measuring time complexity empirically"
   ]
  },
  {
   "cell_type": "markdown",
   "metadata": {},
   "source": [
    "## Classic PageRank"
   ]
  },
  {
   "cell_type": "markdown",
   "metadata": {},
   "source": [
    "[2] ```PageRank is a link analysis algorithm and it assigns a numerical weighting to each element of a hyperlinked set of documents, such as the World Wide Web, with the purpose of \"measuring\" its relative importance within the set.```\n",
    ".The PageRank algorithm returns the probability that a person randomly surfing will arrive arrive at any particular page. It is assumed that the input distribution is evenly divided at the beginning of PR process. \n",
    "\n",
    "PR takes three inputs; number of pages, damping factor, and a number of iterations. The PageRank relies on an arbitrary probability distribution in which a person randomly clicks on links will arrive at any particular page. The probability which a person independently will continue is a damping fator d. PR computations require iterations through a number of pages to adjust approximate PR values to the theoretical value.\n",
    "\n",
    "The result of node with a PR of 0.4 for instance, means there is 40% chance that a person randomly surf will be directed to the node.\n",
    "\n",
    "The implementation of the classic PageRank algorithm uses an iterative method. At each iteration step, the PageRank value of all nodes in the graph are computed.\n",
    "\n",
    "### PageRank Formula\n",
    "\n"
   ]
  },
  {
   "cell_type": "markdown",
   "metadata": {},
   "source": [
    "\n",
    "\n",
    "The iteration equation of the page rank value of  𝑖  is given by\n",
    "\n",
    "**PR(n) = (1-d)/N + d*(PR(n1)/num_neighbors(n1) + ... + PR(n_last)/num_neighbors(n_last))**\n",
    "\n",
    "where the damping factor $d=D$, $\\frac{d}{n}$ denotes random walk score, $OutputDegree(P_j)$ denote how many pages are linked as children pages for the page $j$."
   ]
  },
  {
   "cell_type": "markdown",
   "metadata": {},
   "source": []
  },
  {
   "cell_type": "markdown",
   "metadata": {},
   "source": [
    "### Algorithm Steps\n",
    "The implementation of the classic PageRank algorithm uses an iterative method. At each iteration step, the PageRank value of all nodes in the graph are computed.\n",
    "\n",
    "1. Initialize the PageRank of every node with a value of 1/n\n",
    "2. Iterate through the graph. For each iteration, update the PageRank of every node in the graph.\n",
    "   1. For the first page, it only processes through random walk. \n",
    "   2. For other pages, they can process through random walk or inter-page links. \n",
    "   3. Sum up the proportional rank from all of its in-neighbors\n",
    "   4. Update the PageRank with the weighted sum of proportional rank and random walk\n",
    "3. Normalize the PageRank when there is terminal point. PageRank value will converge after enough iterations\n",
    "5. Return Rank"
   ]
  },
  {
   "cell_type": "markdown",
   "metadata": {},
   "source": [
    "# The Algorithm Script"
   ]
  },
  {
   "cell_type": "markdown",
   "metadata": {},
   "source": [
    "| **Input Argument** | **Type** | **Comment**                                       | \n",
    "|--------------------|----------|---------------------------------------------------|\n",
    "| G                  | graph    | input graph; will be converted to number of nodes |\n",
    "| n                  | int      | total number of nodes of given graph (G)          |     \n",
    "| d                  | float    | damping factor; the probability of random walk                                    |\n",
    "| I                  | int    | the number of iteration                       |"
   ]
  },
  {
   "cell_type": "markdown",
   "metadata": {},
   "source": [
    "| **Output Argument** | **Type** | **Comment**                                                           |\n",
    "|---------------------|----------|-----------------------------------------------------------------------|\n",
    "| PR                  | array    | node property where the PageRank value for each node will be written. |\n"
   ]
  },
  {
   "cell_type": "markdown",
   "metadata": {},
   "source": [
    "# the probability of being reached if random walk\n",
    "rand = 1 / n\n",
    "\n",
    "# the expected transition matrix\n",
    "P_hat = P * (1 - d) + rand * d"
   ]
  },
  {
   "cell_type": "code",
   "execution_count": 5,
   "metadata": {},
   "outputs": [],
   "source": [
    "# import packages\n",
    "import matplotlib.pyplot as plt\n",
    "import numpy as np\n",
    "import pandas as pd\n",
    "import itertools\n",
    "import random\n",
    "from time import perf_counter\n",
    "np.set_printoptions(precision=3)  # the precision to print\n",
    "import networkx as nx\n"
   ]
  },
  {
   "cell_type": "code",
   "execution_count": 8,
   "metadata": {},
   "outputs": [
    {
     "data": {
      "text/plain": [
       "'\\nReferences\\n----------\\n[1]“Networkx.algorithms.link_analysis.pagerank_alg — NetworkX 2.8.5 Documentation.” \\nNetworkx.org, 2022, networkx.org/documentation/stable/_modules/networkx/algorithms/link_analysis/pagerank_alg.html#pagerank. \\nAccessed 24 July 2022.\\n'"
      ]
     },
     "execution_count": 8,
     "metadata": {},
     "output_type": "execute_result"
    }
   ],
   "source": [
    "def pageRank(G, d = 0.85, I = 100):\n",
    "    # converts input graph into number of nodes\n",
    "    n = nx.number_of_nodes(G)\n",
    "    \n",
    "    # Step 1: Initialize the PageRank of every node with a value of 1/n | O(n)\n",
    "    PR = np.ones(n)/n\n",
    "\n",
    "    # Step 2: For each iteration, update the PageRank of every node in the graph.\n",
    "    for i_t in range(I):  # O(k) where k is number of iteration\n",
    "        \n",
    "        # 2-1: For the first page, it only processes through random walk. \n",
    "        rand = 1 / n  # assign value: O(1)\n",
    "        PR[0] = d * rand  # assign value & computation: O(1)\n",
    "\n",
    "        #  2-2: For other pages, they can process through random walk or inter-page links.\n",
    "        for i in range(1, n):  # O(n) where n is number of pages\n",
    "            \n",
    "            # 2 - 3: Sum up the proportional rank from all of its in-neighbors \n",
    "            i_prop = PR[i-1] / 1 # assign value & computation: O(1)\n",
    "            # 2 - 4: Update the PageRank with the weighted sum of proportional rank and random walk\n",
    "            PR[i] = d * rand + (1-d) * i_prop # assign value & computation: O(1)\n",
    "\n",
    "# Step 3: normalize PR when there is terminal point\n",
    "    PR /= PR.sum()  # assign value & computation: O(1)\n",
    "    return PR # returning value: O(1)\n",
    "\n",
    "\n",
    "# print(pageRank(10, 0.15, 50010))\n",
    "'''\n",
    "References\n",
    "----------\n",
    "[1]“Networkx.algorithms.link_analysis.pagerank_alg — NetworkX 2.8.5 Documentation.” \n",
    "Networkx.org, 2022, networkx.org/documentation/stable/_modules/networkx/algorithms/link_analysis/pagerank_alg.html#pagerank. \n",
    "Accessed 24 July 2022.\n",
    "'''"
   ]
  },
  {
   "cell_type": "markdown",
   "metadata": {},
   "source": [
    "However, there is a probability  𝑑  of random walk. Thus, the expected transition matrix  𝑃̂   is the weighted average of  𝑃  and random walk probability:"
   ]
  },
  {
   "cell_type": "markdown",
   "metadata": {},
   "source": []
  },
  {
   "cell_type": "code",
   "execution_count": 9,
   "metadata": {},
   "outputs": [
    {
     "name": "stdout",
     "output_type": "stream",
     "text": [
      "[0.087 0.1   0.101 0.102 0.102 0.102 0.102 0.102 0.102 0.102]\n"
     ]
    }
   ],
   "source": [
    "#[3]\n",
    "# Create a scale-free graph on one hundred nodes:\n",
    "G = nx.scale_free_graph(10)\n",
    "\n",
    "\n",
    "print(pageRank(G))\n"
   ]
  },
  {
   "cell_type": "code",
   "execution_count": 16,
   "metadata": {},
   "outputs": [
    {
     "name": "stdout",
     "output_type": "stream",
     "text": [
      "MultiDiGraph with 10 nodes and 22 edges\n"
     ]
    }
   ],
   "source": [
    "print(G)"
   ]
  },
  {
   "cell_type": "markdown",
   "metadata": {},
   "source": [
    "1. Runs the PageRank algorithm on a directed or undirected graph of the data.\n",
    "2. Iterate through "
   ]
  },
  {
   "cell_type": "markdown",
   "metadata": {},
   "source": [
    "## Theoretical Analysis"
   ]
  },
  {
   "cell_type": "markdown",
   "metadata": {},
   "source": [
    "\n",
    "Time and space complexity of the classic PageRank algorithm. The implementation of this algorithm uses an iterative method. At each iteration step, the PageRank value of all nodes in the graph are computed. <br>\n",
    "\n",
    "\n",
    "Refer to the algorithm and the script in the previous cells. <br>\n",
    "\n",
    "The main loop runs I times, which is total number of iteration. <br>\n",
    "The inner loop runs n times, which is the number of nodes generated <br>\n",
    "<br>\n",
    "\n",
    "The time complexity’s value is O(I * n) where I represents the specific number of iterations that needs to be run on node n. \n",
    "\n",
    "The big O value for PageRank’s space complexity is O(N) where n is total number of nodes. since we keep only the given nodes information. \n",
    "\n",
    "\n",
    "\n",
    "\n"
   ]
  },
  {
   "cell_type": "markdown",
   "metadata": {},
   "source": [
    "# Empirical Time Complexity"
   ]
  },
  {
   "cell_type": "markdown",
   "metadata": {},
   "source": [
    "The following function takes an insert function and a node/value to insert.\n",
    "The node/value is returned as an Iterable so its value can be 1 or more depending on the situation. For example a tree node would be a value only but a hash would require key and value. Inner loop runs 10 times to reduce the variation of the measurement for statistical purposes.\n",
    "\n",
    "We will use the time.perf_counter to measure time accurately. Also we will use a log scale plot to show very small variations at a zoomed/focused level.\n",
    "\n",
    "Below, the generation of random input variable is also included in the time measurement.\n",
    "Unfortunately it is hard to get rid of it as it is a passed function to node_f."
   ]
  },
  {
   "cell_type": "code",
   "execution_count": 22,
   "metadata": {},
   "outputs": [
    {
     "data": {
      "text/plain": [
       "'\\nReferences\\n----------\\n[1]module05_05.reivew_of_Data_Structures — Foundation of Algo Documentation.” \\nGuven, 2022,\\nAccessed 24 July 2022.\\n'"
      ]
     },
     "execution_count": 22,
     "metadata": {},
     "output_type": "execute_result"
    }
   ],
   "source": [
    "from time import perf_counter\n",
    "from random import randint\n",
    "import pandas as pd\n",
    "import numpy as np\n",
    "import matplotlib.pyplot as plt\n",
    "%matplotlib inline\n",
    "\n",
    "\n",
    "'''\n",
    "node_f: measuring insertion cost\n",
    "def new_A_val(_n):\n",
    "    return (randint(0,_n),)\n",
    "    \n",
    "maybe processing time?? => converting graphs into nodes?\n",
    "'''\n",
    "def measure_cost(num_nodes, pageRank):\n",
    "    t = []\n",
    "    ds = None\n",
    "    for n in num_nodes:\n",
    "        runs = []\n",
    "        for j in range(10):  # reduce the variation of the measurement\n",
    "            ds = None # starting from an empty data structure\n",
    "            st = perf_counter()\n",
    "            for i in range(n):\n",
    "                ds = pageRank(ds)\n",
    "            \n",
    "            runs += [perf_counter()-st]\n",
    "        t += [np.mean(runs)]\n",
    "\n",
    "    print('clock: ', ' '.join(['{:g}'.format(v) for v in t]))\n",
    "    # ds dataset can be used for search\n",
    "    return t, ds\n",
    "\n",
    "'''\n",
    "References\n",
    "----------\n",
    "[1]module05_05.reivew_of_Data_Structures — Foundation of Algo Documentation.” \n",
    "Guven, 2022,\n",
    "Accessed 24 July 2022.\n",
    "'''"
   ]
  },
  {
   "cell_type": "code",
   "execution_count": null,
   "metadata": {},
   "outputs": [],
   "source": [
    "N_RUNS = [10, 100, 500, 700, 1000, 2000, 3000, 5000, 7000, 9000, 10000]\n",
    "\n",
    "t1, ds1 = measure_cost(N_RUNS, pageRank)\n",
    "# t2, ds2 = measure_cost(N_RUNS, insert_LL, new_LL_node)\n",
    "# t3, ds3 = measure_cost(N_RUNS, insert_BST, new_BST_node)\n",
    "# t4, ds4 = measure_cost(N_RUNS, insert_H, new_H_val)\n"
   ]
  },
  {
   "cell_type": "markdown",
   "metadata": {},
   "source": [
    "# Conclusion"
   ]
  },
  {
   "cell_type": "markdown",
   "metadata": {},
   "source": [
    "```\n",
    "In this study, we analyzed a PageRank algorithm for its theoretical and empirical complexity.\n",
    "\n",
    "PageRank algorithms are important members of unsupervised learning algorithms. In this study, we examined the single-pass clustering algorithm as a streaming, big data analytic. We empirically showed that the algorithm can run in \n",
    "O(N * K) time and therefore it can be used in streaming big data applications.\n",
    "```"
   ]
  },
  {
   "cell_type": "code",
   "execution_count": null,
   "metadata": {
    "vscode": {
     "languageId": "markdown"
    }
   },
   "outputs": [],
   "source": []
  },
  {
   "cell_type": "markdown",
   "metadata": {},
   "source": [
    "\n",
    "Note: Your evaluations and conclusions must be much more detailed."
   ]
  },
  {
   "cell_type": "markdown",
   "metadata": {},
   "source": [
    "## References"
   ]
  },
  {
   "cell_type": "markdown",
   "metadata": {},
   "source": [
    "rajat95gupta. “Implementing PageRank on Famous Social Networks.” Kaggle.com, Kaggle, 29 Dec. 2021, www.kaggle.com/code/rajat95gupta/implementing-pagerank-on-famous-social-networks. <br>\n",
    "Wikipedia Contributors. “PageRank.” Wikipedia, Wikimedia Foundation, 23 July 2022, en.wikipedia.org/wiki/PageRank. Accessed 24 July 2022.\n",
    "“Scale_free_graph — NetworkX 2.8.5 Documentation.” Networkx.org, 2022, networkx.org/documentation/stable/reference/generated/networkx.generators.directed.scale_free_graph.html#networkx.generators.directed.scale_free_graph. Accessed 24 July 2022.\n",
    "“Networkx.algorithms.link_analysis.pagerank_alg — NetworkX 2.8.5 Documentation.” Networkx.org, 2022, networkx.org/documentation/stable/_modules/networkx/algorithms/link_analysis/pagerank_alg.html#pagerank. Accessed 24 July 2022.\n",
    "\n",
    "‌\n",
    "‌\n",
    "\n",
    "‌\n",
    "\n",
    "\n",
    "‌"
   ]
  }
 ],
 "metadata": {
  "kernelspec": {
   "display_name": "Python 3.8.5 ('base')",
   "language": "python",
   "name": "python3"
  },
  "language_info": {
   "codemirror_mode": {
    "name": "ipython",
    "version": 3
   },
   "file_extension": ".py",
   "mimetype": "text/x-python",
   "name": "python",
   "nbconvert_exporter": "python",
   "pygments_lexer": "ipython3",
   "version": "3.8.5"
  },
  "orig_nbformat": 4,
  "vscode": {
   "interpreter": {
    "hash": "baa2e52980430d335b97b133b9bdc90c6ba1b985616caf224317f930da22a067"
   }
  }
 },
 "nbformat": 4,
 "nbformat_minor": 2
}
