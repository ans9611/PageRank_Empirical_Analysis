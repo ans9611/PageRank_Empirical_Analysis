{
 "cells": [
  {
   "cell_type": "markdown",
   "metadata": {},
   "source": []
  },
  {
   "cell_type": "markdown",
   "metadata": {},
   "source": [
    "# Empirical Analysis Practice"
   ]
  },
  {
   "cell_type": "markdown",
   "metadata": {},
   "source": [
    "# Introduction:\n",
    "PageRank (PR) is an algorithm which rank websites in their Google Search engine results. PR is one of approaches to measuring the importance of website pages by calculating ranks based on the proportional rank.\n",
    "\n",
    "## PageRank Theory\n",
    "The PR ranks depend on the number of pages, damping factor, and a number of iterations. The PageRank relies on an arbitrary probability distribution in which a person randomly clicks on links will arrive at any particular page. The probability which a person independently will continue is a damping fator d. PR computations require iterations through a number of pages to adjust approximate PR values to the theoretical value.\n",
    "\n",
    "## Theoretical Complexity\n",
    "Time Complexity O(k*N) where k represents the specific number of repeats of the code that needs to be run on page N.\n",
    "Space Complexity O(N), meaning that it takes up as much space as the number of pages in Google. \n"
   ]
  },
  {
   "cell_type": "markdown",
   "metadata": {},
   "source": [
    "## PageRank Equation\n",
    "The iteration equation of the page rank value of  𝑖  is given by\n",
    "\n",
    "**PR(n) = (1-d)/N + d*(PR(n1)/num_neighbors(n1) + ... + PR(n_last)/num_neighbors(n_last))**\n",
    "\n",
    "where the damping factor $d=D$, $\\frac{d}{n}$ denotes random walk score, $OutputDegree(P_j)$ denote how many pages are linked as children pages for the page $j$."
   ]
  },
  {
   "cell_type": "markdown",
   "metadata": {},
   "source": [
    "## 2. Canonical test data (might be a script to generate it)\n",
    "   2.1 Sample test data to run with the algorithm (this can be interesting examples to show the utility of the algorithm)"
   ]
  },
  {
   "cell_type": "markdown",
   "metadata": {},
   "source": [
    "3. The actual code of the algorithm which can indeed run"
   ]
  },
  {
   "cell_type": "code",
   "execution_count": 11,
   "metadata": {},
   "outputs": [],
   "source": [
    "# import packages\n",
    "import matplotlib.pyplot as plt\n",
    "import numpy as np\n",
    "import pandas as pd\n",
    "import random\n",
    "from time import perf_counter\n",
    "np.set_printoptions(precision=3)  # the precision to print\n"
   ]
  },
  {
   "cell_type": "code",
   "execution_count": 12,
   "metadata": {},
   "outputs": [
    {
     "name": "stdout",
     "output_type": "stream",
     "text": [
      "[0.061 0.112 0.156 0.193 0.225 0.252]\n"
     ]
    }
   ],
   "source": [
    "# n = 6  # the number of pages  \n",
    "# d = 0.15  # damping factor \n",
    "# T = 1  # the number of iteration\n",
    "\n",
    "def pageRank(n, d, T):\n",
    "    PR = np.ones(n)/n # Initialize the PageRank of every node with a value of 1/n | O(n)\n",
    "\n",
    "    for i_t in range(T): # For each iteration, update the PageRank of every node in the graph | O(k) where k is number of iteration\n",
    "        rand = rand = 1 / n  # for the pages 1: it can only be reached through random walk | assign value: O(1)\n",
    "        PR[0] = d * rand  # assign value & computation: O(1) \n",
    "        \n",
    "        # for other pages: they can be reached through either random walk or inter-page links\n",
    "        for i in range(1, n): # O(n) where n is nu,ber of pages \n",
    "            i_prop = PR[i-1] / 1 # Sum up the proportional rank from all of its in-neighbors | O(1)\n",
    "            rand  # the probability of randomly walking out the links | O(1)\n",
    "            PR[i] = d * rand + (1-d) * i_prop # Update the PageRank with the weighted sum of proportional rank and random walk | O(1)\n",
    "        \n",
    "# normalize PR when there is terminal point    \n",
    "    PR /= PR.sum() # O(1)\n",
    "    return PR\n",
    "\n",
    "print(pageRank(6, 0.15, 1))"
   ]
  },
  {
   "cell_type": "code",
   "execution_count": 13,
   "metadata": {},
   "outputs": [
    {
     "name": "stdout",
     "output_type": "stream",
     "text": [
      "2174038\n"
     ]
    }
   ],
   "source": [
    "def insertionSort(nums):\n",
    "    global count\n",
    "    for i in range(1, len(nums)):\n",
    "        count += 2 # assignment\n",
    "        key = nums[i]\n",
    "        left = i - 1\n",
    "        \n",
    "        count += 1 # comparision\n",
    "        while key <= nums[left] and left >= 0:\n",
    "            count += 2 # shifting\n",
    "            nums[left + 1] = nums[left]\n",
    "            left -= 1\n",
    "            \n",
    "        count += 1 # assignment  \n",
    "        nums[left + 1] = key\n",
    "    return count\n",
    "\n",
    "print(insertionSort([4, 3, 10,2, 1]))"
   ]
  },
  {
   "cell_type": "code",
   "execution_count": 14,
   "metadata": {},
   "outputs": [
    {
     "name": "stdout",
     "output_type": "stream",
     "text": [
      "2174061\n"
     ]
    }
   ],
   "source": [
    "def quickSort(nums):\n",
    "    def helper(start, end, nums):\n",
    "        global count \n",
    "        # base case => if length of sub-arr is less than 2, return\n",
    "        \n",
    "        count += 1\n",
    "        if start >= end:\n",
    "            return\n",
    "        \n",
    "        # choose random pivot from start to end index\n",
    "        \n",
    "        count += 2 # assignment & random int\n",
    "        randomIdx = random.randint(start, end)\n",
    "        # swap the randomIdx to start \n",
    "        count += 1 # swap\n",
    "        nums[start], nums[randomIdx] = nums[randomIdx], nums[start]\n",
    "        \n",
    "        # partition smaller element to left of pivot & greater element to right \n",
    "        count += 1 # assignment \n",
    "        p = start\n",
    "        for i in range(start + 1, end + 1):\n",
    "            \n",
    "            count += 1 # comparision\n",
    "            if nums[p] >= nums[i]:\n",
    "                \n",
    "                count += 2 # assigment, addition\n",
    "                p += 1\n",
    "                nums[i], nums[p] = nums[p], nums[i]\n",
    "        nums[p], nums[start] = nums[start], nums[p]\n",
    "        \n",
    "        # recurse left of pivot & right of pivot\n",
    "        helper(start, p - 1, nums)\n",
    "        count += 1 # recursion \n",
    "        \n",
    "        helper(p + 1, end, nums)\n",
    "        count += 1 # recursion\n",
    "    \n",
    "    helper(0, len(nums) - 1, nums)\n",
    "    return count\n",
    "\n",
    "        \n",
    "print(quickSort([4, 3, 2, 1]))\n",
    "        \n",
    "        "
   ]
  },
  {
   "cell_type": "code",
   "execution_count": 15,
   "metadata": {},
   "outputs": [
    {
     "name": "stdout",
     "output_type": "stream",
     "text": [
      "Given        5 elments of unsorted arrays, total #ops of quick sort:         40\n",
      "Given        5 elments of unsorted arrays, total #ops= of insertion sort         20\n",
      "Given       10 elments of unsorted arrays, total #ops of quick sort:         82\n",
      "Given       10 elments of unsorted arrays, total #ops= of insertion sort         54\n",
      "Given       50 elments of unsorted arrays, total #ops of quick sort:        696\n",
      "Given       50 elments of unsorted arrays, total #ops= of insertion sort        624\n",
      "Given      100 elments of unsorted arrays, total #ops of quick sort:       1693\n",
      "Given      100 elments of unsorted arrays, total #ops= of insertion sort       2024\n",
      "Given     5000 elments of unsorted arrays, total #ops of quick sort:     527317\n",
      "Given     5000 elments of unsorted arrays, total #ops= of insertion sort    2334612\n"
     ]
    }
   ],
   "source": [
    "def new_array_nums(_n):\n",
    "    return np.random.randint(_n, size=_n)\n",
    "\n",
    "\n",
    "global count\n",
    "b_ops, f_ops = [], []\n",
    "N_RUNS = (5, 10, 50, 100, 5000)  # , 1000000, 3000000)\n",
    "\n",
    "for n in N_RUNS:\n",
    "    vals = new_array_nums(n)\n",
    "    count = 0\n",
    "\n",
    "    r = quickSort(vals)\n",
    "\n",
    "    b_ops += [count]\n",
    "    print(\n",
    "        f'Given {len(vals):8d} elments of unsorted arrays, total #ops of quick sort: {count:10d}')\n",
    "    count = 0\n",
    "    r = insertionSort(vals)\n",
    "    f_ops += [count]\n",
    "    print(\n",
    "        f'Given {len(vals):8d} elments of unsorted arrays, total #ops= of insertion sort {count:10d}')\n",
    "    # print(f'{len(vals):8d} items, #ops= {count:10d}')\n"
   ]
  },
  {
   "cell_type": "code",
   "execution_count": 16,
   "metadata": {},
   "outputs": [
    {
     "data": {
      "image/png": "[encoded data removed]",
      "text/plain": [
       "<Figure size 432x288 with 1 Axes>"
      ]
     },
     "metadata": {
      "needs_background": "light"
     },
     "output_type": "display_data"
    }
   ],
   "source": [
    "df = pd.DataFrame(\n",
    "    {'DS size $n$': N_RUNS, 'QuickSort': b_ops, 'insertion Sort': f_ops})\n",
    "df.set_index('DS size $n$', drop=True, inplace=True)\n",
    "fig = df.plot().get_figure()\n",
    "plt.ylabel('# Operations')\n",
    "plt.grid()\n",
    "fig.savefig('fsearch_analysis.png')\n"
   ]
  },
  {
   "cell_type": "markdown",
   "metadata": {},
   "source": [
    "4. Evaluation plan - empirical\n",
    "\n"
   ]
  },
  {
   "cell_type": "markdown",
   "metadata": {},
   "source": [
    "# Conclusions\n",
    "In this study, we analyzed a PageRank algorithm for its theoretical and empirical complexity."
   ]
  },
  {
   "cell_type": "markdown",
   "metadata": {},
   "source": [
    "Empirical Time Complexity\n",
    "Counting the number of operations by a counter is the most accurate way of empirical analysis of a function.\n"
   ]
  },
  {
   "cell_type": "markdown",
   "metadata": {},
   "source": [
    "# References\n",
    "https://www.geeksforgeeks.org/page-rank-algorithm-implementation/\n",
    "https://towardsdatascience.com/pagerank-3c568a7d2332\n",
    "https://towardsdatascience.com/introduction-to-markov-chains-50da3645a50d\n",
    "https://cims.nyu.edu/~holmes/teaching/asa19/handout_Lecture2_2019.pdf"
   ]
  },
  {
   "cell_type": "markdown",
   "metadata": {},
   "source": []
  },
  {
   "cell_type": "markdown",
   "metadata": {},
   "source": []
  }
 ],
 "metadata": {
  "kernelspec": {
   "display_name": "Python 3.8.5 ('base')",
   "language": "python",
   "name": "python3"
  },
  "language_info": {
   "codemirror_mode": {
    "name": "ipython",
    "version": 3
   },
   "file_extension": ".py",
   "mimetype": "text/x-python",
   "name": "python",
   "nbconvert_exporter": "python",
   "pygments_lexer": "ipython3",
   "version": "3.8.5"
  },
  "orig_nbformat": 4,
  "vscode": {
   "interpreter": {
    "hash": "baa2e52980430d335b97b133b9bdc90c6ba1b985616caf224317f930da22a067"
   }
  }
 },
 "nbformat": 4,
 "nbformat_minor": 2
}
