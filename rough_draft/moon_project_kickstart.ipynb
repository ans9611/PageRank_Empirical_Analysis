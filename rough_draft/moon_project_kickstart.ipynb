{
 "cells": [
  {
   "cell_type": "markdown",
   "metadata": {},
   "source": [
    "https://go.gale.com/ps/i.do?p=AONE&u=googlescholar&id=GALE|A583382068&v=2.1&it=r&sid=sitemap&asid=cbe6ebd4\n",
    "\n",
    "Upload a single page describing:\n",
    "\n",
    "1. Title of your project\n",
    "2. A paragraph explaining the problem/algorithm\n",
    "3. A paragraph describing empirical analysis method or data you will use\n",
    "\n",
    "\n",
    "Centrality Algorithm, Page Rank: \n",
    "\n",
    "\n",
    "\tAn algorithm to identify the most important vertices in a graph.\n",
    "\tApplications: analytics, web, social networks.\n",
    "\n",
    "PageRank Algorithm \n",
    "\n",
    "Centrality: determine the importance of the nodes in the network. This can be used to identify influencers in social media for example or identify potential attack targets in a network.\n",
    "\n",
    "A paragraph explaining the problem/algorithm\n",
    "-\t A paragraph describing empirical analysis method or data you will use\n",
    "\n",
    "Introduction: \n",
    "\n",
    "\n",
    "\n"
   ]
  }
 ],
 "metadata": {
  "kernelspec": {
   "display_name": "Python 3.8.5 ('base')",
   "language": "python",
   "name": "python3"
  },
  "language_info": {
   "name": "python",
   "version": "3.8.5"
  },
  "orig_nbformat": 4,
  "vscode": {
   "interpreter": {
    "hash": "baa2e52980430d335b97b133b9bdc90c6ba1b985616caf224317f930da22a067"
   }
  }
 },
 "nbformat": 4,
 "nbformat_minor": 2
}
