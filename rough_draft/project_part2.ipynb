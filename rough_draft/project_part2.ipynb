{
 "cells": [
  {
   "cell_type": "code",
   "execution_count": 3,
   "metadata": {},
   "outputs": [
    {
     "ename": "AttributeError",
     "evalue": "module 'scipy.sparse' has no attribute 'coo_array'",
     "output_type": "error",
     "traceback": [
      "\u001b[0;31m---------------------------------------------------------------------------\u001b[0m",
      "\u001b[0;31mAttributeError\u001b[0m                            Traceback (most recent call last)",
      "\u001b[1;32m/Users/Moon/engineering/projects/pageRank_analysis/project_part2.ipynb Cell 1\u001b[0m in \u001b[0;36m<cell line: 4>\u001b[0;34m()\u001b[0m\n\u001b[1;32m      <a href='vscode-notebook-cell:/Users/Moon/engineering/projects/pageRank_analysis/project_part2.ipynb#ch0000000?line=1'>2</a>\u001b[0m \u001b[39mimport\u001b[39;00m \u001b[39mnetworkx\u001b[39;00m \u001b[39mas\u001b[39;00m \u001b[39mnx\u001b[39;00m\n\u001b[1;32m      <a href='vscode-notebook-cell:/Users/Moon/engineering/projects/pageRank_analysis/project_part2.ipynb#ch0000000?line=2'>3</a>\u001b[0m G \u001b[39m=\u001b[39m nx\u001b[39m.\u001b[39mDiGraph(nx\u001b[39m.\u001b[39mpath_graph(\u001b[39m4\u001b[39m))\n\u001b[0;32m----> <a href='vscode-notebook-cell:/Users/Moon/engineering/projects/pageRank_analysis/project_part2.ipynb#ch0000000?line=3'>4</a>\u001b[0m pr \u001b[39m=\u001b[39m nx\u001b[39m.\u001b[39;49mpagerank(G, alpha\u001b[39m=\u001b[39;49m\u001b[39m0.9\u001b[39;49m)\n",
      "File \u001b[0;32m~/opt/anaconda3/lib/python3.8/site-packages/networkx/algorithms/link_analysis/pagerank_alg.py:108\u001b[0m, in \u001b[0;36mpagerank\u001b[0;34m(G, alpha, personalization, max_iter, tol, nstart, weight, dangling)\u001b[0m\n\u001b[1;32m      9\u001b[0m \u001b[39mdef\u001b[39;00m \u001b[39mpagerank\u001b[39m(\n\u001b[1;32m     10\u001b[0m     G,\n\u001b[1;32m     11\u001b[0m     alpha\u001b[39m=\u001b[39m\u001b[39m0.85\u001b[39m,\n\u001b[0;32m   (...)\u001b[0m\n\u001b[1;32m     17\u001b[0m     dangling\u001b[39m=\u001b[39m\u001b[39mNone\u001b[39;00m,\n\u001b[1;32m     18\u001b[0m ):\n\u001b[1;32m     19\u001b[0m     \u001b[39m\"\"\"Returns the PageRank of the nodes in the graph.\u001b[39;00m\n\u001b[1;32m     20\u001b[0m \n\u001b[1;32m     21\u001b[0m \u001b[39m    PageRank computes a ranking of the nodes in the graph G based on\u001b[39;00m\n\u001b[0;32m   (...)\u001b[0m\n\u001b[1;32m    106\u001b[0m \n\u001b[1;32m    107\u001b[0m \u001b[39m    \"\"\"\u001b[39;00m\n\u001b[0;32m--> 108\u001b[0m     \u001b[39mreturn\u001b[39;00m pagerank_scipy(\n\u001b[1;32m    109\u001b[0m         G, alpha, personalization, max_iter, tol, nstart, weight, dangling\n\u001b[1;32m    110\u001b[0m     )\n",
      "File \u001b[0;32m~/opt/anaconda3/lib/python3.8/site-packages/networkx/algorithms/link_analysis/pagerank_alg.py:469\u001b[0m, in \u001b[0;36mpagerank_scipy\u001b[0;34m(G, alpha, personalization, max_iter, tol, nstart, weight, dangling)\u001b[0m\n\u001b[1;32m    466\u001b[0m     \u001b[39mreturn\u001b[39;00m {}\n\u001b[1;32m    468\u001b[0m nodelist \u001b[39m=\u001b[39m \u001b[39mlist\u001b[39m(G)\n\u001b[0;32m--> 469\u001b[0m A \u001b[39m=\u001b[39m nx\u001b[39m.\u001b[39;49mto_scipy_sparse_array(G, nodelist\u001b[39m=\u001b[39;49mnodelist, weight\u001b[39m=\u001b[39;49mweight, dtype\u001b[39m=\u001b[39;49m\u001b[39mfloat\u001b[39;49m)\n\u001b[1;32m    470\u001b[0m S \u001b[39m=\u001b[39m A\u001b[39m.\u001b[39msum(axis\u001b[39m=\u001b[39m\u001b[39m1\u001b[39m)\n\u001b[1;32m    471\u001b[0m S[S \u001b[39m!=\u001b[39m \u001b[39m0\u001b[39m] \u001b[39m=\u001b[39m \u001b[39m1.0\u001b[39m \u001b[39m/\u001b[39m S[S \u001b[39m!=\u001b[39m \u001b[39m0\u001b[39m]\n",
      "File \u001b[0;32m~/opt/anaconda3/lib/python3.8/site-packages/networkx/convert_matrix.py:907\u001b[0m, in \u001b[0;36mto_scipy_sparse_array\u001b[0;34m(G, nodelist, dtype, weight, format)\u001b[0m\n\u001b[1;32m    904\u001b[0m     row, col, data \u001b[39m=\u001b[39m [], [], []\n\u001b[1;32m    906\u001b[0m \u001b[39mif\u001b[39;00m G\u001b[39m.\u001b[39mis_directed():\n\u001b[0;32m--> 907\u001b[0m     A \u001b[39m=\u001b[39m sp\u001b[39m.\u001b[39;49msparse\u001b[39m.\u001b[39;49mcoo_array((data, (row, col)), shape\u001b[39m=\u001b[39m(nlen, nlen), dtype\u001b[39m=\u001b[39mdtype)\n\u001b[1;32m    908\u001b[0m \u001b[39melse\u001b[39;00m:\n\u001b[1;32m    909\u001b[0m     \u001b[39m# symmetrize matrix\u001b[39;00m\n\u001b[1;32m    910\u001b[0m     d \u001b[39m=\u001b[39m data \u001b[39m+\u001b[39m data\n",
      "\u001b[0;31mAttributeError\u001b[0m: module 'scipy.sparse' has no attribute 'coo_array'"
     ]
    }
   ],
   "source": [
    "from warnings import warn\n",
    "import networkx as nx\n",
    "G = nx.DiGraph(nx.path_graph(4))\n",
    "pr = nx.pagerank(G, alpha=0.9)\n"
   ]
  }
 ],
 "metadata": {
  "kernelspec": {
   "display_name": "Python 3.8.5 ('base')",
   "language": "python",
   "name": "python3"
  },
  "language_info": {
   "codemirror_mode": {
    "name": "ipython",
    "version": 3
   },
   "file_extension": ".py",
   "mimetype": "text/x-python",
   "name": "python",
   "nbconvert_exporter": "python",
   "pygments_lexer": "ipython3",
   "version": "3.8.5"
  },
  "orig_nbformat": 4,
  "vscode": {
   "interpreter": {
    "hash": "baa2e52980430d335b97b133b9bdc90c6ba1b985616caf224317f930da22a067"
   }
  }
 },
 "nbformat": 4,
 "nbformat_minor": 2
}
