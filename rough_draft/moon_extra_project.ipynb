{
 "cells": [
  {
   "cell_type": "markdown",
   "metadata": {},
   "source": [
    "# PageRank Implementation on other graphs"
   ]
  },
  {
   "cell_type": "code",
   "execution_count": 13,
   "metadata": {},
   "outputs": [],
   "source": [
    "import networkx as nx\n",
    "\n",
    "\n",
    "def _pagerank_python(\n",
    "    G,\n",
    "    alpha=0.85,\n",
    "    max_iter=100,\n",
    "    tol=1.0e-6,\n",
    "    weight=\"weight\",\n",
    "):\n",
    "    if len(G) == 0:\n",
    "        return {}\n",
    "\n",
    "    D = G.to_directed()\n",
    "\n",
    "    # Create a copy in (right) stochastic form\n",
    "    W = nx.stochastic_graph(D, weight=weight)\n",
    "    N = W.number_of_nodes()\n",
    "\n",
    "    # Choose fixed starting vector if not given\n",
    "    x = dict.fromkeys(W, 1.0 / N)\n",
    "\n",
    "    # Assign uniform personalization vector if not given\n",
    "    p = dict.fromkeys(W, 1.0 / N)\n",
    "\n",
    "    # Use personalization vector if dangling vector not specified\n",
    "    dangling_weights = p\n",
    "    dangling_nodes = [n for n in W if W.out_degree(n, weight=weight) == 0.0]\n",
    "\n",
    "    # power iteration: make up to max_iter iterations\n",
    "    for _ in range(max_iter):\n",
    "        xlast = x\n",
    "        x = dict.fromkeys(xlast.keys(), 0)\n",
    "        danglesum = alpha * sum(xlast[n] for n in dangling_nodes)\n",
    "        for n in x:\n",
    "            # this matrix multiply looks odd because it is\n",
    "            # doing a left multiply x^T=xlast^T*W\n",
    "            for _, nbr, wt in W.edges(n, data=weight):\n",
    "                x[nbr] += alpha * xlast[n] * wt\n",
    "            x[n] += danglesum * \\\n",
    "                dangling_weights.get(n, 0) + (1.0 - alpha) * p.get(n, 0)\n",
    "        # check convergence, l1 norm\n",
    "        err = sum(abs(x[n] - xlast[n]) for n in x)\n",
    "        if err < N * tol:\n",
    "            return x\n",
    "    raise nx.PowerIterationFailedConvergence(max_iter)\n"
   ]
  },
  {
   "cell_type": "code",
   "execution_count": 12,
   "metadata": {},
   "outputs": [
    {
     "data": {
      "text/plain": [
       "{0: 0.17241401247723942,\n",
       " 1: 0.32758598752276064,\n",
       " 2: 0.32758598752276064,\n",
       " 3: 0.17241401247723942}"
      ]
     },
     "execution_count": 12,
     "metadata": {},
     "output_type": "execute_result"
    }
   ],
   "source": [
    "G = nx.DiGraph(nx.path_graph(4))\n",
    "pr = _pagerank_python(G, alpha=0.9)\n",
    "pr"
   ]
  }
 ],
 "metadata": {
  "kernelspec": {
   "display_name": "Python 3.8.5 ('base')",
   "language": "python",
   "name": "python3"
  },
  "language_info": {
   "codemirror_mode": {
    "name": "ipython",
    "version": 3
   },
   "file_extension": ".py",
   "mimetype": "text/x-python",
   "name": "python",
   "nbconvert_exporter": "python",
   "pygments_lexer": "ipython3",
   "version": "3.8.5"
  },
  "orig_nbformat": 4,
  "vscode": {
   "interpreter": {
    "hash": "baa2e52980430d335b97b133b9bdc90c6ba1b985616caf224317f930da22a067"
   }
  }
 },
 "nbformat": 4,
 "nbformat_minor": 2
}
