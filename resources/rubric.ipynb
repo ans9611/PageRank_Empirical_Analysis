{
 "cells": [
  {
   "cell_type": "markdown",
   "metadata": {},
   "source": [
    "# Project Final Report \n"
   ]
  },
  {
   "cell_type": "markdown",
   "metadata": {},
   "source": [
    "\n",
    "Project report must contain:\n",
    "\n",
    "1. Details about the algorithm of choice (Why did we study this algorithm? What pieces does it have? Data structures, algorithm strategies?)\n",
    "2. Theoretical analysis (complexities {time,space})\n",
    "3. Empirical analysis (verification of complexities, implementation details)\n",
    "4. Actual code of the algorithm which you have used for empirical analysis\n",
    "5. Conclusions"
   ]
  }
 ],
 "metadata": {
  "kernelspec": {
   "display_name": "Python 3.8.5 ('base')",
   "language": "python",
   "name": "python3"
  },
  "language_info": {
   "name": "python",
   "version": "3.8.5"
  },
  "orig_nbformat": 4,
  "vscode": {
   "interpreter": {
    "hash": "baa2e52980430d335b97b133b9bdc90c6ba1b985616caf224317f930da22a067"
   }
  }
 },
 "nbformat": 4,
 "nbformat_minor": 2
}
